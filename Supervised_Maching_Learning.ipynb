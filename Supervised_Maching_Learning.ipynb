{
 "cells": [
  {
   "cell_type": "code",
   "execution_count": 1,
   "metadata": {},
   "outputs": [],
   "source": [
    "# Import the modules\n",
    "import numpy as np\n",
    "import pandas as pd\n",
    "from pathlib import Path\n",
    "from sklearn.metrics import balanced_accuracy_score, confusion_matrix, classification_report"
   ]
  },
  {
   "cell_type": "markdown",
   "metadata": {},
   "source": [
    "---"
   ]
  },
  {
   "cell_type": "markdown",
   "metadata": {},
   "source": [
    "## Split the Data into Training and Testing Sets"
   ]
  },
  {
   "cell_type": "markdown",
   "metadata": {},
   "source": [
    "### Step 1: Read the `team_stats_merge_4.csv` data from the `Resources` folder into a Pandas DataFrame."
   ]
  },
  {
   "cell_type": "code",
   "execution_count": 9,
   "metadata": {},
   "outputs": [
    {
     "data": {
      "text/html": [
       "<div>\n",
       "<style scoped>\n",
       "    .dataframe tbody tr th:only-of-type {\n",
       "        vertical-align: middle;\n",
       "    }\n",
       "\n",
       "    .dataframe tbody tr th {\n",
       "        vertical-align: top;\n",
       "    }\n",
       "\n",
       "    .dataframe thead th {\n",
       "        text-align: right;\n",
       "    }\n",
       "</style>\n",
       "<table border=\"1\" class=\"dataframe\">\n",
       "  <thead>\n",
       "    <tr style=\"text-align: right;\">\n",
       "      <th></th>\n",
       "      <th>team_stat_id</th>\n",
       "      <th>team_id</th>\n",
       "      <th>season_id</th>\n",
       "      <th>team_stats_gamesPlayed</th>\n",
       "      <th>team_stats_wins</th>\n",
       "      <th>team_stats_losses</th>\n",
       "      <th>team_stats_ot</th>\n",
       "      <th>team_stats_pts</th>\n",
       "      <th>team_stats_ptPctg</th>\n",
       "      <th>team_stats_goalsPerGame</th>\n",
       "      <th>...</th>\n",
       "      <th>team_stats_shotsAllowed</th>\n",
       "      <th>team_stats_winScoreFirst</th>\n",
       "      <th>team_stats_winOppScoreFirst</th>\n",
       "      <th>team_stats_winLeadFirstPer</th>\n",
       "      <th>team_stats_winLeadSecondPer</th>\n",
       "      <th>team_stats_winOutshootOpp</th>\n",
       "      <th>team_stats_winOutshotByOpp</th>\n",
       "      <th>team_name</th>\n",
       "      <th>team_location</th>\n",
       "      <th>winning_team</th>\n",
       "    </tr>\n",
       "  </thead>\n",
       "  <tbody>\n",
       "    <tr>\n",
       "      <th>0</th>\n",
       "      <td>NaN</td>\n",
       "      <td>1</td>\n",
       "      <td>19911992</td>\n",
       "      <td>80</td>\n",
       "      <td>38</td>\n",
       "      <td>31</td>\n",
       "      <td>0</td>\n",
       "      <td>87</td>\n",
       "      <td>54.4</td>\n",
       "      <td>3.613</td>\n",
       "      <td>...</td>\n",
       "      <td>28.6250</td>\n",
       "      <td>0.711</td>\n",
       "      <td>0.262</td>\n",
       "      <td>0.793</td>\n",
       "      <td>0.805</td>\n",
       "      <td>0.490</td>\n",
       "      <td>0.414</td>\n",
       "      <td>New Jersey Devils</td>\n",
       "      <td>New Jersey</td>\n",
       "      <td>0</td>\n",
       "    </tr>\n",
       "    <tr>\n",
       "      <th>1</th>\n",
       "      <td>NaN</td>\n",
       "      <td>1</td>\n",
       "      <td>19921993</td>\n",
       "      <td>84</td>\n",
       "      <td>40</td>\n",
       "      <td>37</td>\n",
       "      <td>0</td>\n",
       "      <td>87</td>\n",
       "      <td>51.8</td>\n",
       "      <td>3.667</td>\n",
       "      <td>...</td>\n",
       "      <td>29.8095</td>\n",
       "      <td>0.641</td>\n",
       "      <td>0.333</td>\n",
       "      <td>0.769</td>\n",
       "      <td>0.838</td>\n",
       "      <td>0.510</td>\n",
       "      <td>0.452</td>\n",
       "      <td>New Jersey Devils</td>\n",
       "      <td>New Jersey</td>\n",
       "      <td>0</td>\n",
       "    </tr>\n",
       "    <tr>\n",
       "      <th>2</th>\n",
       "      <td>NaN</td>\n",
       "      <td>1</td>\n",
       "      <td>19931994</td>\n",
       "      <td>84</td>\n",
       "      <td>47</td>\n",
       "      <td>25</td>\n",
       "      <td>0</td>\n",
       "      <td>106</td>\n",
       "      <td>63.1</td>\n",
       "      <td>3.643</td>\n",
       "      <td>...</td>\n",
       "      <td>29.0119</td>\n",
       "      <td>0.717</td>\n",
       "      <td>0.368</td>\n",
       "      <td>0.897</td>\n",
       "      <td>0.921</td>\n",
       "      <td>0.607</td>\n",
       "      <td>0.444</td>\n",
       "      <td>New Jersey Devils</td>\n",
       "      <td>New Jersey</td>\n",
       "      <td>0</td>\n",
       "    </tr>\n",
       "    <tr>\n",
       "      <th>3</th>\n",
       "      <td>NaN</td>\n",
       "      <td>1</td>\n",
       "      <td>19941995</td>\n",
       "      <td>48</td>\n",
       "      <td>22</td>\n",
       "      <td>18</td>\n",
       "      <td>0</td>\n",
       "      <td>52</td>\n",
       "      <td>54.2</td>\n",
       "      <td>2.833</td>\n",
       "      <td>...</td>\n",
       "      <td>25.3750</td>\n",
       "      <td>0.600</td>\n",
       "      <td>0.304</td>\n",
       "      <td>0.667</td>\n",
       "      <td>0.714</td>\n",
       "      <td>0.533</td>\n",
       "      <td>0.313</td>\n",
       "      <td>New Jersey Devils</td>\n",
       "      <td>New Jersey</td>\n",
       "      <td>1</td>\n",
       "    </tr>\n",
       "    <tr>\n",
       "      <th>4</th>\n",
       "      <td>NaN</td>\n",
       "      <td>1</td>\n",
       "      <td>19951996</td>\n",
       "      <td>82</td>\n",
       "      <td>37</td>\n",
       "      <td>33</td>\n",
       "      <td>0</td>\n",
       "      <td>86</td>\n",
       "      <td>52.4</td>\n",
       "      <td>2.622</td>\n",
       "      <td>...</td>\n",
       "      <td>26.5000</td>\n",
       "      <td>0.643</td>\n",
       "      <td>0.250</td>\n",
       "      <td>0.677</td>\n",
       "      <td>0.774</td>\n",
       "      <td>0.475</td>\n",
       "      <td>0.381</td>\n",
       "      <td>New Jersey Devils</td>\n",
       "      <td>New Jersey</td>\n",
       "      <td>0</td>\n",
       "    </tr>\n",
       "  </tbody>\n",
       "</table>\n",
       "<p>5 rows × 28 columns</p>\n",
       "</div>"
      ],
      "text/plain": [
       "   team_stat_id  team_id  season_id  team_stats_gamesPlayed  team_stats_wins  \\\n",
       "0           NaN        1   19911992                      80               38   \n",
       "1           NaN        1   19921993                      84               40   \n",
       "2           NaN        1   19931994                      84               47   \n",
       "3           NaN        1   19941995                      48               22   \n",
       "4           NaN        1   19951996                      82               37   \n",
       "\n",
       "   team_stats_losses  team_stats_ot  team_stats_pts  team_stats_ptPctg  \\\n",
       "0                 31              0              87               54.4   \n",
       "1                 37              0              87               51.8   \n",
       "2                 25              0             106               63.1   \n",
       "3                 18              0              52               54.2   \n",
       "4                 33              0              86               52.4   \n",
       "\n",
       "   team_stats_goalsPerGame  ...  team_stats_shotsAllowed  \\\n",
       "0                    3.613  ...                  28.6250   \n",
       "1                    3.667  ...                  29.8095   \n",
       "2                    3.643  ...                  29.0119   \n",
       "3                    2.833  ...                  25.3750   \n",
       "4                    2.622  ...                  26.5000   \n",
       "\n",
       "   team_stats_winScoreFirst  team_stats_winOppScoreFirst  \\\n",
       "0                     0.711                        0.262   \n",
       "1                     0.641                        0.333   \n",
       "2                     0.717                        0.368   \n",
       "3                     0.600                        0.304   \n",
       "4                     0.643                        0.250   \n",
       "\n",
       "   team_stats_winLeadFirstPer  team_stats_winLeadSecondPer  \\\n",
       "0                       0.793                        0.805   \n",
       "1                       0.769                        0.838   \n",
       "2                       0.897                        0.921   \n",
       "3                       0.667                        0.714   \n",
       "4                       0.677                        0.774   \n",
       "\n",
       "   team_stats_winOutshootOpp  team_stats_winOutshotByOpp          team_name  \\\n",
       "0                      0.490                       0.414  New Jersey Devils   \n",
       "1                      0.510                       0.452  New Jersey Devils   \n",
       "2                      0.607                       0.444  New Jersey Devils   \n",
       "3                      0.533                       0.313  New Jersey Devils   \n",
       "4                      0.475                       0.381  New Jersey Devils   \n",
       "\n",
       "   team_location  winning_team  \n",
       "0     New Jersey             0  \n",
       "1     New Jersey             0  \n",
       "2     New Jersey             0  \n",
       "3     New Jersey             1  \n",
       "4     New Jersey             0  \n",
       "\n",
       "[5 rows x 28 columns]"
      ]
     },
     "execution_count": 9,
     "metadata": {},
     "output_type": "execute_result"
    }
   ],
   "source": [
    "# Read the CSV file from the Resources folder into a Pandas DataFrame\n",
    "file_path = 'Resources\\\\team_stats_merge_4.csv'\n",
    "\n",
    "winningteamDF = pd.read_csv(file_path)\n",
    "\n",
    "# Review the DataFrame\n",
    "winningteamDF.head()"
   ]
  },
  {
   "cell_type": "markdown",
   "metadata": {},
   "source": [
    "### Step 2: Create the labels set (`y`)  from the “loan_status” column, and then create the features (`X`) DataFrame from the remaining columns."
   ]
  },
  {
   "cell_type": "code",
   "execution_count": 31,
   "metadata": {},
   "outputs": [],
   "source": [
    "# Separate the data into labels and features\n",
    "# Separate the y variable, the labels\n",
    "y = winningteamDF['winning_team']\n",
    "\n",
    "# Separate the X variable, the features\n",
    "x = winningteamDF[['team_stats_gamesPlayed',\t'team_stats_wins',\t'team_stats_losses',\t'team_stats_ot',\t'team_stats_pts',\t'team_stats_ptPctg',\t'team_stats_goalsPerGame',\t'team_stats_goalsAgainstPerGame',\t'team_stats_evGGARatio',\t'team_stats_powerPlayPercentage',\t'team_stats_powerPlayGoals',\t'team_stats_powerPlayGoalsAgainst',\t'team_stats_powerPlayOpportunities',\t'team_stats_penaltyKillPercentage',\t'team_stats_shotsPerGame',\t'team_stats_shotsAllowed',\t'team_stats_winScoreFirst',\t'team_stats_winOppScoreFirst',\t'team_stats_winLeadFirstPer',\t'team_stats_winLeadSecondPer',\t'team_stats_winOutshootOpp',\t'team_stats_winOutshotByOpp']]\n"
   ]
  },
  {
   "cell_type": "code",
   "execution_count": 32,
   "metadata": {},
   "outputs": [
    {
     "data": {
      "text/plain": [
       "0    0\n",
       "1    0\n",
       "2    0\n",
       "3    1\n",
       "4    0\n",
       "Name: winning_team, dtype: int64"
      ]
     },
     "execution_count": 32,
     "metadata": {},
     "output_type": "execute_result"
    }
   ],
   "source": [
    "# Review the y variable Series\n",
    "y[:5]"
   ]
  },
  {
   "cell_type": "code",
   "execution_count": 33,
   "metadata": {},
   "outputs": [
    {
     "data": {
      "text/html": [
       "<div>\n",
       "<style scoped>\n",
       "    .dataframe tbody tr th:only-of-type {\n",
       "        vertical-align: middle;\n",
       "    }\n",
       "\n",
       "    .dataframe tbody tr th {\n",
       "        vertical-align: top;\n",
       "    }\n",
       "\n",
       "    .dataframe thead th {\n",
       "        text-align: right;\n",
       "    }\n",
       "</style>\n",
       "<table border=\"1\" class=\"dataframe\">\n",
       "  <thead>\n",
       "    <tr style=\"text-align: right;\">\n",
       "      <th></th>\n",
       "      <th>team_stats_gamesPlayed</th>\n",
       "      <th>team_stats_wins</th>\n",
       "      <th>team_stats_losses</th>\n",
       "      <th>team_stats_ot</th>\n",
       "      <th>team_stats_pts</th>\n",
       "      <th>team_stats_ptPctg</th>\n",
       "      <th>team_stats_goalsPerGame</th>\n",
       "      <th>team_stats_goalsAgainstPerGame</th>\n",
       "      <th>team_stats_evGGARatio</th>\n",
       "      <th>team_stats_powerPlayPercentage</th>\n",
       "      <th>...</th>\n",
       "      <th>team_stats_powerPlayOpportunities</th>\n",
       "      <th>team_stats_penaltyKillPercentage</th>\n",
       "      <th>team_stats_shotsPerGame</th>\n",
       "      <th>team_stats_shotsAllowed</th>\n",
       "      <th>team_stats_winScoreFirst</th>\n",
       "      <th>team_stats_winOppScoreFirst</th>\n",
       "      <th>team_stats_winLeadFirstPer</th>\n",
       "      <th>team_stats_winLeadSecondPer</th>\n",
       "      <th>team_stats_winOutshootOpp</th>\n",
       "      <th>team_stats_winOutshotByOpp</th>\n",
       "    </tr>\n",
       "  </thead>\n",
       "  <tbody>\n",
       "    <tr>\n",
       "      <th>0</th>\n",
       "      <td>80</td>\n",
       "      <td>38</td>\n",
       "      <td>31</td>\n",
       "      <td>0</td>\n",
       "      <td>87</td>\n",
       "      <td>54.4</td>\n",
       "      <td>3.613</td>\n",
       "      <td>3.238</td>\n",
       "      <td>1.2314</td>\n",
       "      <td>17.5</td>\n",
       "      <td>...</td>\n",
       "      <td>338.0</td>\n",
       "      <td>81.8</td>\n",
       "      <td>31.1875</td>\n",
       "      <td>28.6250</td>\n",
       "      <td>0.711</td>\n",
       "      <td>0.262</td>\n",
       "      <td>0.793</td>\n",
       "      <td>0.805</td>\n",
       "      <td>0.490</td>\n",
       "      <td>0.414</td>\n",
       "    </tr>\n",
       "    <tr>\n",
       "      <th>1</th>\n",
       "      <td>84</td>\n",
       "      <td>40</td>\n",
       "      <td>37</td>\n",
       "      <td>0</td>\n",
       "      <td>87</td>\n",
       "      <td>51.8</td>\n",
       "      <td>3.667</td>\n",
       "      <td>3.560</td>\n",
       "      <td>1.2314</td>\n",
       "      <td>19.2</td>\n",
       "      <td>...</td>\n",
       "      <td>400.0</td>\n",
       "      <td>81.4</td>\n",
       "      <td>33.0238</td>\n",
       "      <td>29.8095</td>\n",
       "      <td>0.641</td>\n",
       "      <td>0.333</td>\n",
       "      <td>0.769</td>\n",
       "      <td>0.838</td>\n",
       "      <td>0.510</td>\n",
       "      <td>0.452</td>\n",
       "    </tr>\n",
       "    <tr>\n",
       "      <th>2</th>\n",
       "      <td>84</td>\n",
       "      <td>47</td>\n",
       "      <td>25</td>\n",
       "      <td>0</td>\n",
       "      <td>106</td>\n",
       "      <td>63.1</td>\n",
       "      <td>3.643</td>\n",
       "      <td>2.619</td>\n",
       "      <td>0.7616</td>\n",
       "      <td>18.3</td>\n",
       "      <td>...</td>\n",
       "      <td>333.0</td>\n",
       "      <td>81.1</td>\n",
       "      <td>31.6310</td>\n",
       "      <td>29.0119</td>\n",
       "      <td>0.717</td>\n",
       "      <td>0.368</td>\n",
       "      <td>0.897</td>\n",
       "      <td>0.921</td>\n",
       "      <td>0.607</td>\n",
       "      <td>0.444</td>\n",
       "    </tr>\n",
       "    <tr>\n",
       "      <th>3</th>\n",
       "      <td>48</td>\n",
       "      <td>22</td>\n",
       "      <td>18</td>\n",
       "      <td>0</td>\n",
       "      <td>52</td>\n",
       "      <td>54.2</td>\n",
       "      <td>2.833</td>\n",
       "      <td>2.521</td>\n",
       "      <td>0.7616</td>\n",
       "      <td>13.4</td>\n",
       "      <td>...</td>\n",
       "      <td>164.0</td>\n",
       "      <td>81.2</td>\n",
       "      <td>30.0833</td>\n",
       "      <td>25.3750</td>\n",
       "      <td>0.600</td>\n",
       "      <td>0.304</td>\n",
       "      <td>0.667</td>\n",
       "      <td>0.714</td>\n",
       "      <td>0.533</td>\n",
       "      <td>0.313</td>\n",
       "    </tr>\n",
       "    <tr>\n",
       "      <th>4</th>\n",
       "      <td>82</td>\n",
       "      <td>37</td>\n",
       "      <td>33</td>\n",
       "      <td>0</td>\n",
       "      <td>86</td>\n",
       "      <td>52.4</td>\n",
       "      <td>2.622</td>\n",
       "      <td>2.463</td>\n",
       "      <td>1.0000</td>\n",
       "      <td>14.9</td>\n",
       "      <td>...</td>\n",
       "      <td>368.0</td>\n",
       "      <td>84.6</td>\n",
       "      <td>32.1585</td>\n",
       "      <td>26.5000</td>\n",
       "      <td>0.643</td>\n",
       "      <td>0.250</td>\n",
       "      <td>0.677</td>\n",
       "      <td>0.774</td>\n",
       "      <td>0.475</td>\n",
       "      <td>0.381</td>\n",
       "    </tr>\n",
       "  </tbody>\n",
       "</table>\n",
       "<p>5 rows × 22 columns</p>\n",
       "</div>"
      ],
      "text/plain": [
       "   team_stats_gamesPlayed  team_stats_wins  team_stats_losses  team_stats_ot  \\\n",
       "0                      80               38                 31              0   \n",
       "1                      84               40                 37              0   \n",
       "2                      84               47                 25              0   \n",
       "3                      48               22                 18              0   \n",
       "4                      82               37                 33              0   \n",
       "\n",
       "   team_stats_pts  team_stats_ptPctg  team_stats_goalsPerGame  \\\n",
       "0              87               54.4                    3.613   \n",
       "1              87               51.8                    3.667   \n",
       "2             106               63.1                    3.643   \n",
       "3              52               54.2                    2.833   \n",
       "4              86               52.4                    2.622   \n",
       "\n",
       "   team_stats_goalsAgainstPerGame  team_stats_evGGARatio  \\\n",
       "0                           3.238                 1.2314   \n",
       "1                           3.560                 1.2314   \n",
       "2                           2.619                 0.7616   \n",
       "3                           2.521                 0.7616   \n",
       "4                           2.463                 1.0000   \n",
       "\n",
       "   team_stats_powerPlayPercentage  ...  team_stats_powerPlayOpportunities  \\\n",
       "0                            17.5  ...                              338.0   \n",
       "1                            19.2  ...                              400.0   \n",
       "2                            18.3  ...                              333.0   \n",
       "3                            13.4  ...                              164.0   \n",
       "4                            14.9  ...                              368.0   \n",
       "\n",
       "   team_stats_penaltyKillPercentage  team_stats_shotsPerGame  \\\n",
       "0                              81.8                  31.1875   \n",
       "1                              81.4                  33.0238   \n",
       "2                              81.1                  31.6310   \n",
       "3                              81.2                  30.0833   \n",
       "4                              84.6                  32.1585   \n",
       "\n",
       "   team_stats_shotsAllowed  team_stats_winScoreFirst  \\\n",
       "0                  28.6250                     0.711   \n",
       "1                  29.8095                     0.641   \n",
       "2                  29.0119                     0.717   \n",
       "3                  25.3750                     0.600   \n",
       "4                  26.5000                     0.643   \n",
       "\n",
       "   team_stats_winOppScoreFirst  team_stats_winLeadFirstPer  \\\n",
       "0                        0.262                       0.793   \n",
       "1                        0.333                       0.769   \n",
       "2                        0.368                       0.897   \n",
       "3                        0.304                       0.667   \n",
       "4                        0.250                       0.677   \n",
       "\n",
       "   team_stats_winLeadSecondPer  team_stats_winOutshootOpp  \\\n",
       "0                        0.805                      0.490   \n",
       "1                        0.838                      0.510   \n",
       "2                        0.921                      0.607   \n",
       "3                        0.714                      0.533   \n",
       "4                        0.774                      0.475   \n",
       "\n",
       "   team_stats_winOutshotByOpp  \n",
       "0                       0.414  \n",
       "1                       0.452  \n",
       "2                       0.444  \n",
       "3                       0.313  \n",
       "4                       0.381  \n",
       "\n",
       "[5 rows x 22 columns]"
      ]
     },
     "execution_count": 33,
     "metadata": {},
     "output_type": "execute_result"
    }
   ],
   "source": [
    "# Review the X variable DataFrame\n",
    "x[:5]"
   ]
  },
  {
   "cell_type": "markdown",
   "metadata": {},
   "source": [
    "### Step 3: Check the balance of the labels variable (`y`) by using the `value_counts` function."
   ]
  },
  {
   "cell_type": "code",
   "execution_count": 34,
   "metadata": {},
   "outputs": [
    {
     "data": {
      "text/plain": [
       "0    823\n",
       "1     31\n",
       "Name: winning_team, dtype: int64"
      ]
     },
     "execution_count": 34,
     "metadata": {},
     "output_type": "execute_result"
    }
   ],
   "source": [
    "# Check the balance of our target values\n",
    "y.value_counts()"
   ]
  },
  {
   "cell_type": "markdown",
   "metadata": {},
   "source": [
    "### Step 4: Split the data into training and testing datasets by using `train_test_split`."
   ]
  },
  {
   "cell_type": "code",
   "execution_count": 35,
   "metadata": {},
   "outputs": [],
   "source": [
    "# Import the train_test_learn module\n",
    "from sklearn.model_selection import train_test_split\n",
    "\n",
    "# Split the data using train_test_split\n",
    "# Assign a random_state of 1 to the function\n",
    "x_train, x_test, y_train,y_test = train_test_split(x,y, random_state=1, stratify=y)"
   ]
  },
  {
   "cell_type": "markdown",
   "metadata": {},
   "source": [
    "---"
   ]
  },
  {
   "cell_type": "markdown",
   "metadata": {},
   "source": [
    "## Create a Logistic Regression Model with the Original Data"
   ]
  },
  {
   "cell_type": "markdown",
   "metadata": {},
   "source": [
    "###  Step 1: Fit a logistic regression model by using the training data (`X_train` and `y_train`)."
   ]
  },
  {
   "cell_type": "code",
   "execution_count": 36,
   "metadata": {},
   "outputs": [
    {
     "name": "stderr",
     "output_type": "stream",
     "text": [
      "c:\\Users\\joeld\\anaconda3\\envs\\dev\\lib\\site-packages\\sklearn\\linear_model\\_logistic.py:458: ConvergenceWarning: lbfgs failed to converge (status=1):\n",
      "STOP: TOTAL NO. of ITERATIONS REACHED LIMIT.\n",
      "\n",
      "Increase the number of iterations (max_iter) or scale the data as shown in:\n",
      "    https://scikit-learn.org/stable/modules/preprocessing.html\n",
      "Please also refer to the documentation for alternative solver options:\n",
      "    https://scikit-learn.org/stable/modules/linear_model.html#logistic-regression\n",
      "  n_iter_i = _check_optimize_result(\n"
     ]
    },
    {
     "data": {
      "text/html": [
       "<style>#sk-container-id-2 {color: black;background-color: white;}#sk-container-id-2 pre{padding: 0;}#sk-container-id-2 div.sk-toggleable {background-color: white;}#sk-container-id-2 label.sk-toggleable__label {cursor: pointer;display: block;width: 100%;margin-bottom: 0;padding: 0.3em;box-sizing: border-box;text-align: center;}#sk-container-id-2 label.sk-toggleable__label-arrow:before {content: \"▸\";float: left;margin-right: 0.25em;color: #696969;}#sk-container-id-2 label.sk-toggleable__label-arrow:hover:before {color: black;}#sk-container-id-2 div.sk-estimator:hover label.sk-toggleable__label-arrow:before {color: black;}#sk-container-id-2 div.sk-toggleable__content {max-height: 0;max-width: 0;overflow: hidden;text-align: left;background-color: #f0f8ff;}#sk-container-id-2 div.sk-toggleable__content pre {margin: 0.2em;color: black;border-radius: 0.25em;background-color: #f0f8ff;}#sk-container-id-2 input.sk-toggleable__control:checked~div.sk-toggleable__content {max-height: 200px;max-width: 100%;overflow: auto;}#sk-container-id-2 input.sk-toggleable__control:checked~label.sk-toggleable__label-arrow:before {content: \"▾\";}#sk-container-id-2 div.sk-estimator input.sk-toggleable__control:checked~label.sk-toggleable__label {background-color: #d4ebff;}#sk-container-id-2 div.sk-label input.sk-toggleable__control:checked~label.sk-toggleable__label {background-color: #d4ebff;}#sk-container-id-2 input.sk-hidden--visually {border: 0;clip: rect(1px 1px 1px 1px);clip: rect(1px, 1px, 1px, 1px);height: 1px;margin: -1px;overflow: hidden;padding: 0;position: absolute;width: 1px;}#sk-container-id-2 div.sk-estimator {font-family: monospace;background-color: #f0f8ff;border: 1px dotted black;border-radius: 0.25em;box-sizing: border-box;margin-bottom: 0.5em;}#sk-container-id-2 div.sk-estimator:hover {background-color: #d4ebff;}#sk-container-id-2 div.sk-parallel-item::after {content: \"\";width: 100%;border-bottom: 1px solid gray;flex-grow: 1;}#sk-container-id-2 div.sk-label:hover label.sk-toggleable__label {background-color: #d4ebff;}#sk-container-id-2 div.sk-serial::before {content: \"\";position: absolute;border-left: 1px solid gray;box-sizing: border-box;top: 0;bottom: 0;left: 50%;z-index: 0;}#sk-container-id-2 div.sk-serial {display: flex;flex-direction: column;align-items: center;background-color: white;padding-right: 0.2em;padding-left: 0.2em;position: relative;}#sk-container-id-2 div.sk-item {position: relative;z-index: 1;}#sk-container-id-2 div.sk-parallel {display: flex;align-items: stretch;justify-content: center;background-color: white;position: relative;}#sk-container-id-2 div.sk-item::before, #sk-container-id-2 div.sk-parallel-item::before {content: \"\";position: absolute;border-left: 1px solid gray;box-sizing: border-box;top: 0;bottom: 0;left: 50%;z-index: -1;}#sk-container-id-2 div.sk-parallel-item {display: flex;flex-direction: column;z-index: 1;position: relative;background-color: white;}#sk-container-id-2 div.sk-parallel-item:first-child::after {align-self: flex-end;width: 50%;}#sk-container-id-2 div.sk-parallel-item:last-child::after {align-self: flex-start;width: 50%;}#sk-container-id-2 div.sk-parallel-item:only-child::after {width: 0;}#sk-container-id-2 div.sk-dashed-wrapped {border: 1px dashed gray;margin: 0 0.4em 0.5em 0.4em;box-sizing: border-box;padding-bottom: 0.4em;background-color: white;}#sk-container-id-2 div.sk-label label {font-family: monospace;font-weight: bold;display: inline-block;line-height: 1.2em;}#sk-container-id-2 div.sk-label-container {text-align: center;}#sk-container-id-2 div.sk-container {/* jupyter's `normalize.less` sets `[hidden] { display: none; }` but bootstrap.min.css set `[hidden] { display: none !important; }` so we also need the `!important` here to be able to override the default hidden behavior on the sphinx rendered scikit-learn.org. See: https://github.com/scikit-learn/scikit-learn/issues/21755 */display: inline-block !important;position: relative;}#sk-container-id-2 div.sk-text-repr-fallback {display: none;}</style><div id=\"sk-container-id-2\" class=\"sk-top-container\"><div class=\"sk-text-repr-fallback\"><pre>LogisticRegression(random_state=1)</pre><b>In a Jupyter environment, please rerun this cell to show the HTML representation or trust the notebook. <br />On GitHub, the HTML representation is unable to render, please try loading this page with nbviewer.org.</b></div><div class=\"sk-container\" hidden><div class=\"sk-item\"><div class=\"sk-estimator sk-toggleable\"><input class=\"sk-toggleable__control sk-hidden--visually\" id=\"sk-estimator-id-2\" type=\"checkbox\" checked><label for=\"sk-estimator-id-2\" class=\"sk-toggleable__label sk-toggleable__label-arrow\">LogisticRegression</label><div class=\"sk-toggleable__content\"><pre>LogisticRegression(random_state=1)</pre></div></div></div></div></div>"
      ],
      "text/plain": [
       "LogisticRegression(random_state=1)"
      ]
     },
     "execution_count": 36,
     "metadata": {},
     "output_type": "execute_result"
    }
   ],
   "source": [
    "# Import the LogisticRegression module from SKLearn\n",
    "from sklearn.linear_model import LogisticRegression\n",
    "\n",
    "# Instantiate the Logistic Regression model\n",
    "# Assign a random_state parameter of 1 to the model\n",
    "classifierModel = LogisticRegression(solver='lbfgs', random_state=1)\n",
    "\n",
    "# Fit the model using training data\n",
    "classifierModel.fit(x_train, y_train)"
   ]
  },
  {
   "cell_type": "markdown",
   "metadata": {},
   "source": [
    "### Step 2: Save the predictions on the testing data labels by using the testing feature data (`X_test`) and the fitted model."
   ]
  },
  {
   "cell_type": "code",
   "execution_count": 37,
   "metadata": {},
   "outputs": [],
   "source": [
    "# Make a prediction using the testing data\n",
    "predictions = classifierModel.predict(x_test)"
   ]
  },
  {
   "cell_type": "markdown",
   "metadata": {},
   "source": [
    "### Step 3: Evaluate the model’s performance by doing the following:\n",
    "\n",
    "* Calculate the accuracy score of the model.\n",
    "\n",
    "* Generate a confusion matrix.\n",
    "\n",
    "* Print the classification report."
   ]
  },
  {
   "cell_type": "code",
   "execution_count": 38,
   "metadata": {},
   "outputs": [
    {
     "data": {
      "text/plain": [
       "0.4975728155339806"
      ]
     },
     "execution_count": 38,
     "metadata": {},
     "output_type": "execute_result"
    }
   ],
   "source": [
    "# Print the balanced_accuracy score of the model\n",
    "balanced_accuracy_score(y_test, predictions)"
   ]
  },
  {
   "cell_type": "code",
   "execution_count": 39,
   "metadata": {},
   "outputs": [
    {
     "data": {
      "text/plain": [
       "array([[205,   1],\n",
       "       [  8,   0]], dtype=int64)"
      ]
     },
     "execution_count": 39,
     "metadata": {},
     "output_type": "execute_result"
    }
   ],
   "source": [
    "# Generate a confusion matrix for the model\n",
    "confusion_matrix(y_test, predictions)"
   ]
  },
  {
   "cell_type": "code",
   "execution_count": 42,
   "metadata": {},
   "outputs": [
    {
     "name": "stdout",
     "output_type": "stream",
     "text": [
      "                  precision    recall  f1-score   support\n",
      "\n",
      "not_winning_team       0.96      1.00      0.98       206\n",
      "    winning_team       0.00      0.00      0.00         8\n",
      "\n",
      "        accuracy                           0.96       214\n",
      "       macro avg       0.48      0.50      0.49       214\n",
      "    weighted avg       0.93      0.96      0.94       214\n",
      "\n"
     ]
    }
   ],
   "source": [
    "# Print the classification report for the model\n",
    "print(classification_report(y_test, predictions,target_names = [\"not_winning_team\", \"winning_team\"]))"
   ]
  },
  {
   "cell_type": "markdown",
   "metadata": {},
   "source": [
    "---"
   ]
  },
  {
   "cell_type": "markdown",
   "metadata": {},
   "source": [
    "## Predict a Logistic Regression Model with Resampled Training Data"
   ]
  },
  {
   "cell_type": "markdown",
   "metadata": {},
   "source": [
    "### Step 1: Use the `RandomOverSampler` module from the imbalanced-learn library to resample the data. Be sure to confirm that the labels have an equal number of data points. "
   ]
  },
  {
   "cell_type": "code",
   "execution_count": 43,
   "metadata": {},
   "outputs": [],
   "source": [
    "# Import the RandomOverSampler module form imbalanced-learn\n",
    "from imblearn.over_sampling import RandomOverSampler\n",
    "\n",
    "# Instantiate the random oversampler model\n",
    "# # Assign a random_state parameter of 1 to the model\n",
    "ros_model = RandomOverSampler(random_state=1)\n",
    "\n",
    "# Fit the original training data to the random_oversampler model\n",
    "x_resampled, y_resampled = ros_model.fit_resample(x_train, y_train)"
   ]
  },
  {
   "cell_type": "code",
   "execution_count": 44,
   "metadata": {},
   "outputs": [
    {
     "data": {
      "text/plain": [
       "0       0\n",
       "1       0\n",
       "2       0\n",
       "3       0\n",
       "4       0\n",
       "       ..\n",
       "1229    1\n",
       "1230    1\n",
       "1231    1\n",
       "1232    1\n",
       "1233    1\n",
       "Name: winning_team, Length: 1234, dtype: int64"
      ]
     },
     "execution_count": 44,
     "metadata": {},
     "output_type": "execute_result"
    }
   ],
   "source": [
    "# Count the distinct values of the resampled labels data\n",
    "y_resampled"
   ]
  },
  {
   "cell_type": "markdown",
   "metadata": {},
   "source": [
    "### Step 2: Use the `LogisticRegression` classifier and the resampled data to fit the model and make predictions."
   ]
  },
  {
   "cell_type": "code",
   "execution_count": 45,
   "metadata": {},
   "outputs": [
    {
     "name": "stderr",
     "output_type": "stream",
     "text": [
      "c:\\Users\\joeld\\anaconda3\\envs\\dev\\lib\\site-packages\\sklearn\\linear_model\\_logistic.py:458: ConvergenceWarning: lbfgs failed to converge (status=1):\n",
      "STOP: TOTAL NO. of ITERATIONS REACHED LIMIT.\n",
      "\n",
      "Increase the number of iterations (max_iter) or scale the data as shown in:\n",
      "    https://scikit-learn.org/stable/modules/preprocessing.html\n",
      "Please also refer to the documentation for alternative solver options:\n",
      "    https://scikit-learn.org/stable/modules/linear_model.html#logistic-regression\n",
      "  n_iter_i = _check_optimize_result(\n"
     ]
    }
   ],
   "source": [
    "# Instantiate the Logistic Regression model\n",
    "# Assign a random_state parameter of 1 to the model\n",
    "classifierModel = LogisticRegression(solver='lbfgs', random_state=1)\n",
    "\n",
    "# Fit the model using the resampled training data\n",
    "classifierModel.fit(x_resampled, y_resampled)\n",
    "\n",
    "# Make a prediction using the testing data\n",
    "predictions = classifierModel.predict(x_resampled)"
   ]
  },
  {
   "cell_type": "markdown",
   "metadata": {},
   "source": [
    "### Step 3: Evaluate the model’s performance by doing the following:\n",
    "\n",
    "* Calculate the accuracy score of the model.\n",
    "\n",
    "* Generate a confusion matrix.\n",
    "\n",
    "* Print the classification report."
   ]
  },
  {
   "cell_type": "code",
   "execution_count": 46,
   "metadata": {},
   "outputs": [
    {
     "data": {
      "text/plain": [
       "0.7844408427876823"
      ]
     },
     "execution_count": 46,
     "metadata": {},
     "output_type": "execute_result"
    }
   ],
   "source": [
    "# Print the balanced_accuracy score of the model \n",
    "balanced_accuracy_score(y_resampled, predictions)"
   ]
  },
  {
   "cell_type": "code",
   "execution_count": 47,
   "metadata": {},
   "outputs": [
    {
     "data": {
      "text/plain": [
       "array([[483, 134],\n",
       "       [132, 485]], dtype=int64)"
      ]
     },
     "execution_count": 47,
     "metadata": {},
     "output_type": "execute_result"
    }
   ],
   "source": [
    "# Generate a confusion matrix for the model\n",
    "confusion_matrix(y_resampled, predictions)"
   ]
  },
  {
   "cell_type": "code",
   "execution_count": 48,
   "metadata": {},
   "outputs": [
    {
     "name": "stdout",
     "output_type": "stream",
     "text": [
      "                  precision    recall  f1-score   support\n",
      "\n",
      "not_winning_team       0.79      0.78      0.78       617\n",
      "    winning_team       0.78      0.79      0.78       617\n",
      "\n",
      "        accuracy                           0.78      1234\n",
      "       macro avg       0.78      0.78      0.78      1234\n",
      "    weighted avg       0.78      0.78      0.78      1234\n",
      "\n"
     ]
    }
   ],
   "source": [
    "# Print the classification report for the model\n",
    "print(classification_report(y_resampled, predictions,target_names = [\"not_winning_team\", \"winning_team\"]))"
   ]
  }
 ],
 "metadata": {
  "kernelspec": {
   "display_name": "dev",
   "language": "python",
   "name": "python3"
  },
  "language_info": {
   "codemirror_mode": {
    "name": "ipython",
    "version": 3
   },
   "file_extension": ".py",
   "mimetype": "text/x-python",
   "name": "python",
   "nbconvert_exporter": "python",
   "pygments_lexer": "ipython3",
   "version": "3.10.11"
  }
 },
 "nbformat": 4,
 "nbformat_minor": 4
}
