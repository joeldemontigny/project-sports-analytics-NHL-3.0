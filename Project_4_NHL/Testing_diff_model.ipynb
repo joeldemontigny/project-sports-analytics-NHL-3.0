{
 "cells": [
  {
   "cell_type": "code",
   "execution_count": 1,
   "metadata": {},
   "outputs": [],
   "source": [
    "# Import the modules\n",
    "import numpy as np\n",
    "import pandas as pd\n",
    "from pathlib import Path\n",
    "import joblib\n",
    "from sklearn.metrics import balanced_accuracy_score, confusion_matrix, classification_report"
   ]
  },
  {
   "cell_type": "code",
   "execution_count": 2,
   "metadata": {},
   "outputs": [
    {
     "data": {
      "text/html": [
       "<div>\n",
       "<style scoped>\n",
       "    .dataframe tbody tr th:only-of-type {\n",
       "        vertical-align: middle;\n",
       "    }\n",
       "\n",
       "    .dataframe tbody tr th {\n",
       "        vertical-align: top;\n",
       "    }\n",
       "\n",
       "    .dataframe thead th {\n",
       "        text-align: right;\n",
       "    }\n",
       "</style>\n",
       "<table border=\"1\" class=\"dataframe\">\n",
       "  <thead>\n",
       "    <tr style=\"text-align: right;\">\n",
       "      <th></th>\n",
       "      <th>team_stat_id</th>\n",
       "      <th>team_id</th>\n",
       "      <th>season_id</th>\n",
       "      <th>team_stats_gamesPlayed</th>\n",
       "      <th>team_stats_wins</th>\n",
       "      <th>team_stats_losses</th>\n",
       "      <th>team_stats_ot</th>\n",
       "      <th>team_stats_pts</th>\n",
       "      <th>team_stats_ptPctg</th>\n",
       "      <th>team_stats_goalsPerGame</th>\n",
       "      <th>...</th>\n",
       "      <th>team_stats_shotsAllowed</th>\n",
       "      <th>team_stats_winScoreFirst</th>\n",
       "      <th>team_stats_winOppScoreFirst</th>\n",
       "      <th>team_stats_winLeadFirstPer</th>\n",
       "      <th>team_stats_winLeadSecondPer</th>\n",
       "      <th>team_stats_winOutshootOpp</th>\n",
       "      <th>team_stats_winOutshotByOpp</th>\n",
       "      <th>team_name</th>\n",
       "      <th>team_location</th>\n",
       "      <th>winning_team</th>\n",
       "    </tr>\n",
       "  </thead>\n",
       "  <tbody>\n",
       "    <tr>\n",
       "      <th>0</th>\n",
       "      <td>NaN</td>\n",
       "      <td>1</td>\n",
       "      <td>19911992</td>\n",
       "      <td>80</td>\n",
       "      <td>38</td>\n",
       "      <td>31</td>\n",
       "      <td>0</td>\n",
       "      <td>87</td>\n",
       "      <td>54.4</td>\n",
       "      <td>3.613</td>\n",
       "      <td>...</td>\n",
       "      <td>28.6250</td>\n",
       "      <td>0.711</td>\n",
       "      <td>0.262</td>\n",
       "      <td>0.793</td>\n",
       "      <td>0.805</td>\n",
       "      <td>0.490</td>\n",
       "      <td>0.414</td>\n",
       "      <td>New Jersey Devils</td>\n",
       "      <td>New Jersey</td>\n",
       "      <td>0</td>\n",
       "    </tr>\n",
       "    <tr>\n",
       "      <th>1</th>\n",
       "      <td>NaN</td>\n",
       "      <td>1</td>\n",
       "      <td>19921993</td>\n",
       "      <td>84</td>\n",
       "      <td>40</td>\n",
       "      <td>37</td>\n",
       "      <td>0</td>\n",
       "      <td>87</td>\n",
       "      <td>51.8</td>\n",
       "      <td>3.667</td>\n",
       "      <td>...</td>\n",
       "      <td>29.8095</td>\n",
       "      <td>0.641</td>\n",
       "      <td>0.333</td>\n",
       "      <td>0.769</td>\n",
       "      <td>0.838</td>\n",
       "      <td>0.510</td>\n",
       "      <td>0.452</td>\n",
       "      <td>New Jersey Devils</td>\n",
       "      <td>New Jersey</td>\n",
       "      <td>0</td>\n",
       "    </tr>\n",
       "    <tr>\n",
       "      <th>2</th>\n",
       "      <td>NaN</td>\n",
       "      <td>1</td>\n",
       "      <td>19931994</td>\n",
       "      <td>84</td>\n",
       "      <td>47</td>\n",
       "      <td>25</td>\n",
       "      <td>0</td>\n",
       "      <td>106</td>\n",
       "      <td>63.1</td>\n",
       "      <td>3.643</td>\n",
       "      <td>...</td>\n",
       "      <td>29.0119</td>\n",
       "      <td>0.717</td>\n",
       "      <td>0.368</td>\n",
       "      <td>0.897</td>\n",
       "      <td>0.921</td>\n",
       "      <td>0.607</td>\n",
       "      <td>0.444</td>\n",
       "      <td>New Jersey Devils</td>\n",
       "      <td>New Jersey</td>\n",
       "      <td>0</td>\n",
       "    </tr>\n",
       "    <tr>\n",
       "      <th>3</th>\n",
       "      <td>NaN</td>\n",
       "      <td>1</td>\n",
       "      <td>19941995</td>\n",
       "      <td>48</td>\n",
       "      <td>22</td>\n",
       "      <td>18</td>\n",
       "      <td>0</td>\n",
       "      <td>52</td>\n",
       "      <td>54.2</td>\n",
       "      <td>2.833</td>\n",
       "      <td>...</td>\n",
       "      <td>25.3750</td>\n",
       "      <td>0.600</td>\n",
       "      <td>0.304</td>\n",
       "      <td>0.667</td>\n",
       "      <td>0.714</td>\n",
       "      <td>0.533</td>\n",
       "      <td>0.313</td>\n",
       "      <td>New Jersey Devils</td>\n",
       "      <td>New Jersey</td>\n",
       "      <td>1</td>\n",
       "    </tr>\n",
       "    <tr>\n",
       "      <th>4</th>\n",
       "      <td>NaN</td>\n",
       "      <td>1</td>\n",
       "      <td>19951996</td>\n",
       "      <td>82</td>\n",
       "      <td>37</td>\n",
       "      <td>33</td>\n",
       "      <td>0</td>\n",
       "      <td>86</td>\n",
       "      <td>52.4</td>\n",
       "      <td>2.622</td>\n",
       "      <td>...</td>\n",
       "      <td>26.5000</td>\n",
       "      <td>0.643</td>\n",
       "      <td>0.250</td>\n",
       "      <td>0.677</td>\n",
       "      <td>0.774</td>\n",
       "      <td>0.475</td>\n",
       "      <td>0.381</td>\n",
       "      <td>New Jersey Devils</td>\n",
       "      <td>New Jersey</td>\n",
       "      <td>0</td>\n",
       "    </tr>\n",
       "  </tbody>\n",
       "</table>\n",
       "<p>5 rows × 28 columns</p>\n",
       "</div>"
      ],
      "text/plain": [
       "   team_stat_id  team_id  season_id  team_stats_gamesPlayed  team_stats_wins  \\\n",
       "0           NaN        1   19911992                      80               38   \n",
       "1           NaN        1   19921993                      84               40   \n",
       "2           NaN        1   19931994                      84               47   \n",
       "3           NaN        1   19941995                      48               22   \n",
       "4           NaN        1   19951996                      82               37   \n",
       "\n",
       "   team_stats_losses  team_stats_ot  team_stats_pts  team_stats_ptPctg  \\\n",
       "0                 31              0              87               54.4   \n",
       "1                 37              0              87               51.8   \n",
       "2                 25              0             106               63.1   \n",
       "3                 18              0              52               54.2   \n",
       "4                 33              0              86               52.4   \n",
       "\n",
       "   team_stats_goalsPerGame  ...  team_stats_shotsAllowed  \\\n",
       "0                    3.613  ...                  28.6250   \n",
       "1                    3.667  ...                  29.8095   \n",
       "2                    3.643  ...                  29.0119   \n",
       "3                    2.833  ...                  25.3750   \n",
       "4                    2.622  ...                  26.5000   \n",
       "\n",
       "   team_stats_winScoreFirst  team_stats_winOppScoreFirst  \\\n",
       "0                     0.711                        0.262   \n",
       "1                     0.641                        0.333   \n",
       "2                     0.717                        0.368   \n",
       "3                     0.600                        0.304   \n",
       "4                     0.643                        0.250   \n",
       "\n",
       "   team_stats_winLeadFirstPer  team_stats_winLeadSecondPer  \\\n",
       "0                       0.793                        0.805   \n",
       "1                       0.769                        0.838   \n",
       "2                       0.897                        0.921   \n",
       "3                       0.667                        0.714   \n",
       "4                       0.677                        0.774   \n",
       "\n",
       "   team_stats_winOutshootOpp  team_stats_winOutshotByOpp          team_name  \\\n",
       "0                      0.490                       0.414  New Jersey Devils   \n",
       "1                      0.510                       0.452  New Jersey Devils   \n",
       "2                      0.607                       0.444  New Jersey Devils   \n",
       "3                      0.533                       0.313  New Jersey Devils   \n",
       "4                      0.475                       0.381  New Jersey Devils   \n",
       "\n",
       "   team_location  winning_team  \n",
       "0     New Jersey             0  \n",
       "1     New Jersey             0  \n",
       "2     New Jersey             0  \n",
       "3     New Jersey             1  \n",
       "4     New Jersey             0  \n",
       "\n",
       "[5 rows x 28 columns]"
      ]
     },
     "metadata": {},
     "output_type": "display_data"
    },
    {
     "data": {
      "text/html": [
       "<div>\n",
       "<style scoped>\n",
       "    .dataframe tbody tr th:only-of-type {\n",
       "        vertical-align: middle;\n",
       "    }\n",
       "\n",
       "    .dataframe tbody tr th {\n",
       "        vertical-align: top;\n",
       "    }\n",
       "\n",
       "    .dataframe thead th {\n",
       "        text-align: right;\n",
       "    }\n",
       "</style>\n",
       "<table border=\"1\" class=\"dataframe\">\n",
       "  <thead>\n",
       "    <tr style=\"text-align: right;\">\n",
       "      <th></th>\n",
       "      <th>team_stat_id</th>\n",
       "      <th>team_id</th>\n",
       "      <th>season_id</th>\n",
       "      <th>team_stats_gamesPlayed</th>\n",
       "      <th>team_stats_wins</th>\n",
       "      <th>team_stats_losses</th>\n",
       "      <th>team_stats_ot</th>\n",
       "      <th>team_stats_pts</th>\n",
       "      <th>team_stats_ptPctg</th>\n",
       "      <th>team_stats_goalsPerGame</th>\n",
       "      <th>...</th>\n",
       "      <th>team_stats_shotsAllowed</th>\n",
       "      <th>team_stats_winScoreFirst</th>\n",
       "      <th>team_stats_winOppScoreFirst</th>\n",
       "      <th>team_stats_winLeadFirstPer</th>\n",
       "      <th>team_stats_winLeadSecondPer</th>\n",
       "      <th>team_stats_winOutshootOpp</th>\n",
       "      <th>team_stats_winOutshotByOpp</th>\n",
       "      <th>team_name</th>\n",
       "      <th>team_location</th>\n",
       "      <th>winning_team</th>\n",
       "    </tr>\n",
       "  </thead>\n",
       "  <tbody>\n",
       "    <tr>\n",
       "      <th>849</th>\n",
       "      <td>NaN</td>\n",
       "      <td>54</td>\n",
       "      <td>20202021</td>\n",
       "      <td>56</td>\n",
       "      <td>40</td>\n",
       "      <td>14</td>\n",
       "      <td>2</td>\n",
       "      <td>82</td>\n",
       "      <td>73.2</td>\n",
       "      <td>3.3930</td>\n",
       "      <td>...</td>\n",
       "      <td>27.2679</td>\n",
       "      <td>0.861</td>\n",
       "      <td>0.450</td>\n",
       "      <td>0.846</td>\n",
       "      <td>0.931</td>\n",
       "      <td>0.769</td>\n",
       "      <td>0.667</td>\n",
       "      <td>Vegas Golden Knights</td>\n",
       "      <td>Vegas</td>\n",
       "      <td>0</td>\n",
       "    </tr>\n",
       "    <tr>\n",
       "      <th>850</th>\n",
       "      <td>NaN</td>\n",
       "      <td>54</td>\n",
       "      <td>20212022</td>\n",
       "      <td>82</td>\n",
       "      <td>43</td>\n",
       "      <td>31</td>\n",
       "      <td>8</td>\n",
       "      <td>94</td>\n",
       "      <td>57.3</td>\n",
       "      <td>3.1950</td>\n",
       "      <td>...</td>\n",
       "      <td>29.9756</td>\n",
       "      <td>0.689</td>\n",
       "      <td>0.324</td>\n",
       "      <td>0.759</td>\n",
       "      <td>0.886</td>\n",
       "      <td>0.500</td>\n",
       "      <td>0.545</td>\n",
       "      <td>Vegas Golden Knights</td>\n",
       "      <td>Vegas</td>\n",
       "      <td>0</td>\n",
       "    </tr>\n",
       "    <tr>\n",
       "      <th>851</th>\n",
       "      <td>NaN</td>\n",
       "      <td>54</td>\n",
       "      <td>20222023</td>\n",
       "      <td>82</td>\n",
       "      <td>51</td>\n",
       "      <td>22</td>\n",
       "      <td>9</td>\n",
       "      <td>111</td>\n",
       "      <td>67.7</td>\n",
       "      <td>3.2561</td>\n",
       "      <td>...</td>\n",
       "      <td>30.8902</td>\n",
       "      <td>0.826</td>\n",
       "      <td>0.361</td>\n",
       "      <td>0.857</td>\n",
       "      <td>0.919</td>\n",
       "      <td>0.692</td>\n",
       "      <td>0.541</td>\n",
       "      <td>Vegas Golden Knights</td>\n",
       "      <td>Vegas</td>\n",
       "      <td>1</td>\n",
       "    </tr>\n",
       "    <tr>\n",
       "      <th>852</th>\n",
       "      <td>NaN</td>\n",
       "      <td>55</td>\n",
       "      <td>20212022</td>\n",
       "      <td>82</td>\n",
       "      <td>27</td>\n",
       "      <td>49</td>\n",
       "      <td>6</td>\n",
       "      <td>60</td>\n",
       "      <td>36.6</td>\n",
       "      <td>2.5980</td>\n",
       "      <td>...</td>\n",
       "      <td>28.8659</td>\n",
       "      <td>0.484</td>\n",
       "      <td>0.235</td>\n",
       "      <td>0.619</td>\n",
       "      <td>0.739</td>\n",
       "      <td>0.410</td>\n",
       "      <td>0.231</td>\n",
       "      <td>Seattle Kraken</td>\n",
       "      <td>Seattle</td>\n",
       "      <td>0</td>\n",
       "    </tr>\n",
       "    <tr>\n",
       "      <th>853</th>\n",
       "      <td>NaN</td>\n",
       "      <td>55</td>\n",
       "      <td>20222023</td>\n",
       "      <td>82</td>\n",
       "      <td>46</td>\n",
       "      <td>28</td>\n",
       "      <td>8</td>\n",
       "      <td>100</td>\n",
       "      <td>61.0</td>\n",
       "      <td>3.5244</td>\n",
       "      <td>...</td>\n",
       "      <td>27.0122</td>\n",
       "      <td>0.762</td>\n",
       "      <td>0.350</td>\n",
       "      <td>0.862</td>\n",
       "      <td>0.897</td>\n",
       "      <td>0.600</td>\n",
       "      <td>0.458</td>\n",
       "      <td>Seattle Kraken</td>\n",
       "      <td>Seattle</td>\n",
       "      <td>0</td>\n",
       "    </tr>\n",
       "  </tbody>\n",
       "</table>\n",
       "<p>5 rows × 28 columns</p>\n",
       "</div>"
      ],
      "text/plain": [
       "     team_stat_id  team_id  season_id  team_stats_gamesPlayed  \\\n",
       "849           NaN       54   20202021                      56   \n",
       "850           NaN       54   20212022                      82   \n",
       "851           NaN       54   20222023                      82   \n",
       "852           NaN       55   20212022                      82   \n",
       "853           NaN       55   20222023                      82   \n",
       "\n",
       "     team_stats_wins  team_stats_losses  team_stats_ot  team_stats_pts  \\\n",
       "849               40                 14              2              82   \n",
       "850               43                 31              8              94   \n",
       "851               51                 22              9             111   \n",
       "852               27                 49              6              60   \n",
       "853               46                 28              8             100   \n",
       "\n",
       "     team_stats_ptPctg  team_stats_goalsPerGame  ...  team_stats_shotsAllowed  \\\n",
       "849               73.2                   3.3930  ...                  27.2679   \n",
       "850               57.3                   3.1950  ...                  29.9756   \n",
       "851               67.7                   3.2561  ...                  30.8902   \n",
       "852               36.6                   2.5980  ...                  28.8659   \n",
       "853               61.0                   3.5244  ...                  27.0122   \n",
       "\n",
       "     team_stats_winScoreFirst  team_stats_winOppScoreFirst  \\\n",
       "849                     0.861                        0.450   \n",
       "850                     0.689                        0.324   \n",
       "851                     0.826                        0.361   \n",
       "852                     0.484                        0.235   \n",
       "853                     0.762                        0.350   \n",
       "\n",
       "     team_stats_winLeadFirstPer  team_stats_winLeadSecondPer  \\\n",
       "849                       0.846                        0.931   \n",
       "850                       0.759                        0.886   \n",
       "851                       0.857                        0.919   \n",
       "852                       0.619                        0.739   \n",
       "853                       0.862                        0.897   \n",
       "\n",
       "     team_stats_winOutshootOpp  team_stats_winOutshotByOpp  \\\n",
       "849                      0.769                       0.667   \n",
       "850                      0.500                       0.545   \n",
       "851                      0.692                       0.541   \n",
       "852                      0.410                       0.231   \n",
       "853                      0.600                       0.458   \n",
       "\n",
       "                team_name  team_location  winning_team  \n",
       "849  Vegas Golden Knights          Vegas             0  \n",
       "850  Vegas Golden Knights          Vegas             0  \n",
       "851  Vegas Golden Knights          Vegas             1  \n",
       "852        Seattle Kraken        Seattle             0  \n",
       "853        Seattle Kraken        Seattle             0  \n",
       "\n",
       "[5 rows x 28 columns]"
      ]
     },
     "metadata": {},
     "output_type": "display_data"
    }
   ],
   "source": [
    "# Read the CSV file from the Resources folder into a Pandas DataFrame\n",
    "team_stat_df = pd.read_csv(\n",
    "    Path(\"team_stats_merge_4.csv\")\n",
    ")\n",
    "\n",
    "# Review the DataFrame\n",
    "display(team_stat_df.head())\n",
    "display(team_stat_df.tail())"
   ]
  },
  {
   "cell_type": "code",
   "execution_count": 3,
   "metadata": {},
   "outputs": [
    {
     "data": {
      "text/html": [
       "<div>\n",
       "<style scoped>\n",
       "    .dataframe tbody tr th:only-of-type {\n",
       "        vertical-align: middle;\n",
       "    }\n",
       "\n",
       "    .dataframe tbody tr th {\n",
       "        vertical-align: top;\n",
       "    }\n",
       "\n",
       "    .dataframe thead th {\n",
       "        text-align: right;\n",
       "    }\n",
       "</style>\n",
       "<table border=\"1\" class=\"dataframe\">\n",
       "  <thead>\n",
       "    <tr style=\"text-align: right;\">\n",
       "      <th></th>\n",
       "      <th>team_stats_gamesPlayed</th>\n",
       "      <th>team_stats_wins</th>\n",
       "      <th>team_stats_losses</th>\n",
       "      <th>team_stats_ot</th>\n",
       "      <th>team_stats_pts</th>\n",
       "      <th>team_stats_ptPctg</th>\n",
       "      <th>team_stats_goalsPerGame</th>\n",
       "      <th>team_stats_goalsAgainstPerGame</th>\n",
       "      <th>team_stats_evGGARatio</th>\n",
       "      <th>team_stats_powerPlayPercentage</th>\n",
       "      <th>...</th>\n",
       "      <th>team_stats_shotsAllowed</th>\n",
       "      <th>team_stats_winScoreFirst</th>\n",
       "      <th>team_stats_winOppScoreFirst</th>\n",
       "      <th>team_stats_winLeadFirstPer</th>\n",
       "      <th>team_stats_winLeadSecondPer</th>\n",
       "      <th>team_stats_winOutshootOpp</th>\n",
       "      <th>team_stats_winOutshotByOpp</th>\n",
       "      <th>team_name</th>\n",
       "      <th>team_location</th>\n",
       "      <th>winning_team</th>\n",
       "    </tr>\n",
       "  </thead>\n",
       "  <tbody>\n",
       "    <tr>\n",
       "      <th>0</th>\n",
       "      <td>80</td>\n",
       "      <td>38</td>\n",
       "      <td>31</td>\n",
       "      <td>0</td>\n",
       "      <td>87</td>\n",
       "      <td>54.4</td>\n",
       "      <td>3.613</td>\n",
       "      <td>3.238</td>\n",
       "      <td>1.2314</td>\n",
       "      <td>17.5</td>\n",
       "      <td>...</td>\n",
       "      <td>28.6250</td>\n",
       "      <td>0.711</td>\n",
       "      <td>0.262</td>\n",
       "      <td>0.793</td>\n",
       "      <td>0.805</td>\n",
       "      <td>0.490</td>\n",
       "      <td>0.414</td>\n",
       "      <td>New Jersey Devils</td>\n",
       "      <td>New Jersey</td>\n",
       "      <td>0</td>\n",
       "    </tr>\n",
       "    <tr>\n",
       "      <th>1</th>\n",
       "      <td>84</td>\n",
       "      <td>40</td>\n",
       "      <td>37</td>\n",
       "      <td>0</td>\n",
       "      <td>87</td>\n",
       "      <td>51.8</td>\n",
       "      <td>3.667</td>\n",
       "      <td>3.560</td>\n",
       "      <td>1.2314</td>\n",
       "      <td>19.2</td>\n",
       "      <td>...</td>\n",
       "      <td>29.8095</td>\n",
       "      <td>0.641</td>\n",
       "      <td>0.333</td>\n",
       "      <td>0.769</td>\n",
       "      <td>0.838</td>\n",
       "      <td>0.510</td>\n",
       "      <td>0.452</td>\n",
       "      <td>New Jersey Devils</td>\n",
       "      <td>New Jersey</td>\n",
       "      <td>0</td>\n",
       "    </tr>\n",
       "    <tr>\n",
       "      <th>2</th>\n",
       "      <td>84</td>\n",
       "      <td>47</td>\n",
       "      <td>25</td>\n",
       "      <td>0</td>\n",
       "      <td>106</td>\n",
       "      <td>63.1</td>\n",
       "      <td>3.643</td>\n",
       "      <td>2.619</td>\n",
       "      <td>0.7616</td>\n",
       "      <td>18.3</td>\n",
       "      <td>...</td>\n",
       "      <td>29.0119</td>\n",
       "      <td>0.717</td>\n",
       "      <td>0.368</td>\n",
       "      <td>0.897</td>\n",
       "      <td>0.921</td>\n",
       "      <td>0.607</td>\n",
       "      <td>0.444</td>\n",
       "      <td>New Jersey Devils</td>\n",
       "      <td>New Jersey</td>\n",
       "      <td>0</td>\n",
       "    </tr>\n",
       "    <tr>\n",
       "      <th>3</th>\n",
       "      <td>48</td>\n",
       "      <td>22</td>\n",
       "      <td>18</td>\n",
       "      <td>0</td>\n",
       "      <td>52</td>\n",
       "      <td>54.2</td>\n",
       "      <td>2.833</td>\n",
       "      <td>2.521</td>\n",
       "      <td>0.7616</td>\n",
       "      <td>13.4</td>\n",
       "      <td>...</td>\n",
       "      <td>25.3750</td>\n",
       "      <td>0.600</td>\n",
       "      <td>0.304</td>\n",
       "      <td>0.667</td>\n",
       "      <td>0.714</td>\n",
       "      <td>0.533</td>\n",
       "      <td>0.313</td>\n",
       "      <td>New Jersey Devils</td>\n",
       "      <td>New Jersey</td>\n",
       "      <td>1</td>\n",
       "    </tr>\n",
       "    <tr>\n",
       "      <th>4</th>\n",
       "      <td>82</td>\n",
       "      <td>37</td>\n",
       "      <td>33</td>\n",
       "      <td>0</td>\n",
       "      <td>86</td>\n",
       "      <td>52.4</td>\n",
       "      <td>2.622</td>\n",
       "      <td>2.463</td>\n",
       "      <td>1.0000</td>\n",
       "      <td>14.9</td>\n",
       "      <td>...</td>\n",
       "      <td>26.5000</td>\n",
       "      <td>0.643</td>\n",
       "      <td>0.250</td>\n",
       "      <td>0.677</td>\n",
       "      <td>0.774</td>\n",
       "      <td>0.475</td>\n",
       "      <td>0.381</td>\n",
       "      <td>New Jersey Devils</td>\n",
       "      <td>New Jersey</td>\n",
       "      <td>0</td>\n",
       "    </tr>\n",
       "  </tbody>\n",
       "</table>\n",
       "<p>5 rows × 25 columns</p>\n",
       "</div>"
      ],
      "text/plain": [
       "   team_stats_gamesPlayed  team_stats_wins  team_stats_losses  team_stats_ot  \\\n",
       "0                      80               38                 31              0   \n",
       "1                      84               40                 37              0   \n",
       "2                      84               47                 25              0   \n",
       "3                      48               22                 18              0   \n",
       "4                      82               37                 33              0   \n",
       "\n",
       "   team_stats_pts  team_stats_ptPctg  team_stats_goalsPerGame  \\\n",
       "0              87               54.4                    3.613   \n",
       "1              87               51.8                    3.667   \n",
       "2             106               63.1                    3.643   \n",
       "3              52               54.2                    2.833   \n",
       "4              86               52.4                    2.622   \n",
       "\n",
       "   team_stats_goalsAgainstPerGame  team_stats_evGGARatio  \\\n",
       "0                           3.238                 1.2314   \n",
       "1                           3.560                 1.2314   \n",
       "2                           2.619                 0.7616   \n",
       "3                           2.521                 0.7616   \n",
       "4                           2.463                 1.0000   \n",
       "\n",
       "   team_stats_powerPlayPercentage  ...  team_stats_shotsAllowed  \\\n",
       "0                            17.5  ...                  28.6250   \n",
       "1                            19.2  ...                  29.8095   \n",
       "2                            18.3  ...                  29.0119   \n",
       "3                            13.4  ...                  25.3750   \n",
       "4                            14.9  ...                  26.5000   \n",
       "\n",
       "   team_stats_winScoreFirst  team_stats_winOppScoreFirst  \\\n",
       "0                     0.711                        0.262   \n",
       "1                     0.641                        0.333   \n",
       "2                     0.717                        0.368   \n",
       "3                     0.600                        0.304   \n",
       "4                     0.643                        0.250   \n",
       "\n",
       "   team_stats_winLeadFirstPer  team_stats_winLeadSecondPer  \\\n",
       "0                       0.793                        0.805   \n",
       "1                       0.769                        0.838   \n",
       "2                       0.897                        0.921   \n",
       "3                       0.667                        0.714   \n",
       "4                       0.677                        0.774   \n",
       "\n",
       "   team_stats_winOutshootOpp  team_stats_winOutshotByOpp          team_name  \\\n",
       "0                      0.490                       0.414  New Jersey Devils   \n",
       "1                      0.510                       0.452  New Jersey Devils   \n",
       "2                      0.607                       0.444  New Jersey Devils   \n",
       "3                      0.533                       0.313  New Jersey Devils   \n",
       "4                      0.475                       0.381  New Jersey Devils   \n",
       "\n",
       "   team_location  winning_team  \n",
       "0     New Jersey             0  \n",
       "1     New Jersey             0  \n",
       "2     New Jersey             0  \n",
       "3     New Jersey             1  \n",
       "4     New Jersey             0  \n",
       "\n",
       "[5 rows x 25 columns]"
      ]
     },
     "execution_count": 3,
     "metadata": {},
     "output_type": "execute_result"
    }
   ],
   "source": [
    "# Removed the columns are not applicable to train the model\n",
    "clean_team_stat_df =team_stat_df.drop(columns=['team_stat_id','team_id','season_id'])\n",
    "clean_team_stat_df.head()"
   ]
  },
  {
   "cell_type": "code",
   "execution_count": 4,
   "metadata": {},
   "outputs": [
    {
     "data": {
      "text/html": [
       "<div>\n",
       "<style scoped>\n",
       "    .dataframe tbody tr th:only-of-type {\n",
       "        vertical-align: middle;\n",
       "    }\n",
       "\n",
       "    .dataframe tbody tr th {\n",
       "        vertical-align: top;\n",
       "    }\n",
       "\n",
       "    .dataframe thead th {\n",
       "        text-align: right;\n",
       "    }\n",
       "</style>\n",
       "<table border=\"1\" class=\"dataframe\">\n",
       "  <thead>\n",
       "    <tr style=\"text-align: right;\">\n",
       "      <th></th>\n",
       "      <th>team_stats_gamesPlayed</th>\n",
       "      <th>team_stats_wins</th>\n",
       "      <th>team_stats_losses</th>\n",
       "      <th>team_stats_ot</th>\n",
       "      <th>team_stats_pts</th>\n",
       "      <th>team_stats_ptPctg</th>\n",
       "      <th>team_stats_goalsPerGame</th>\n",
       "      <th>team_stats_goalsAgainstPerGame</th>\n",
       "      <th>team_stats_evGGARatio</th>\n",
       "      <th>team_stats_powerPlayPercentage</th>\n",
       "      <th>...</th>\n",
       "      <th>team_location_Pittsburgh</th>\n",
       "      <th>team_location_San Jose</th>\n",
       "      <th>team_location_Seattle</th>\n",
       "      <th>team_location_St. Louis</th>\n",
       "      <th>team_location_Tampa Bay</th>\n",
       "      <th>team_location_Toronto</th>\n",
       "      <th>team_location_Vancouver</th>\n",
       "      <th>team_location_Vegas</th>\n",
       "      <th>team_location_Washington</th>\n",
       "      <th>team_location_Winnipeg</th>\n",
       "    </tr>\n",
       "  </thead>\n",
       "  <tbody>\n",
       "    <tr>\n",
       "      <th>0</th>\n",
       "      <td>80</td>\n",
       "      <td>38</td>\n",
       "      <td>31</td>\n",
       "      <td>0</td>\n",
       "      <td>87</td>\n",
       "      <td>54.4</td>\n",
       "      <td>3.613</td>\n",
       "      <td>3.238</td>\n",
       "      <td>1.2314</td>\n",
       "      <td>17.5</td>\n",
       "      <td>...</td>\n",
       "      <td>0</td>\n",
       "      <td>0</td>\n",
       "      <td>0</td>\n",
       "      <td>0</td>\n",
       "      <td>0</td>\n",
       "      <td>0</td>\n",
       "      <td>0</td>\n",
       "      <td>0</td>\n",
       "      <td>0</td>\n",
       "      <td>0</td>\n",
       "    </tr>\n",
       "    <tr>\n",
       "      <th>1</th>\n",
       "      <td>84</td>\n",
       "      <td>40</td>\n",
       "      <td>37</td>\n",
       "      <td>0</td>\n",
       "      <td>87</td>\n",
       "      <td>51.8</td>\n",
       "      <td>3.667</td>\n",
       "      <td>3.560</td>\n",
       "      <td>1.2314</td>\n",
       "      <td>19.2</td>\n",
       "      <td>...</td>\n",
       "      <td>0</td>\n",
       "      <td>0</td>\n",
       "      <td>0</td>\n",
       "      <td>0</td>\n",
       "      <td>0</td>\n",
       "      <td>0</td>\n",
       "      <td>0</td>\n",
       "      <td>0</td>\n",
       "      <td>0</td>\n",
       "      <td>0</td>\n",
       "    </tr>\n",
       "    <tr>\n",
       "      <th>2</th>\n",
       "      <td>84</td>\n",
       "      <td>47</td>\n",
       "      <td>25</td>\n",
       "      <td>0</td>\n",
       "      <td>106</td>\n",
       "      <td>63.1</td>\n",
       "      <td>3.643</td>\n",
       "      <td>2.619</td>\n",
       "      <td>0.7616</td>\n",
       "      <td>18.3</td>\n",
       "      <td>...</td>\n",
       "      <td>0</td>\n",
       "      <td>0</td>\n",
       "      <td>0</td>\n",
       "      <td>0</td>\n",
       "      <td>0</td>\n",
       "      <td>0</td>\n",
       "      <td>0</td>\n",
       "      <td>0</td>\n",
       "      <td>0</td>\n",
       "      <td>0</td>\n",
       "    </tr>\n",
       "    <tr>\n",
       "      <th>3</th>\n",
       "      <td>48</td>\n",
       "      <td>22</td>\n",
       "      <td>18</td>\n",
       "      <td>0</td>\n",
       "      <td>52</td>\n",
       "      <td>54.2</td>\n",
       "      <td>2.833</td>\n",
       "      <td>2.521</td>\n",
       "      <td>0.7616</td>\n",
       "      <td>13.4</td>\n",
       "      <td>...</td>\n",
       "      <td>0</td>\n",
       "      <td>0</td>\n",
       "      <td>0</td>\n",
       "      <td>0</td>\n",
       "      <td>0</td>\n",
       "      <td>0</td>\n",
       "      <td>0</td>\n",
       "      <td>0</td>\n",
       "      <td>0</td>\n",
       "      <td>0</td>\n",
       "    </tr>\n",
       "    <tr>\n",
       "      <th>4</th>\n",
       "      <td>82</td>\n",
       "      <td>37</td>\n",
       "      <td>33</td>\n",
       "      <td>0</td>\n",
       "      <td>86</td>\n",
       "      <td>52.4</td>\n",
       "      <td>2.622</td>\n",
       "      <td>2.463</td>\n",
       "      <td>1.0000</td>\n",
       "      <td>14.9</td>\n",
       "      <td>...</td>\n",
       "      <td>0</td>\n",
       "      <td>0</td>\n",
       "      <td>0</td>\n",
       "      <td>0</td>\n",
       "      <td>0</td>\n",
       "      <td>0</td>\n",
       "      <td>0</td>\n",
       "      <td>0</td>\n",
       "      <td>0</td>\n",
       "      <td>0</td>\n",
       "    </tr>\n",
       "  </tbody>\n",
       "</table>\n",
       "<p>5 rows × 86 columns</p>\n",
       "</div>"
      ],
      "text/plain": [
       "   team_stats_gamesPlayed  team_stats_wins  team_stats_losses  team_stats_ot  \\\n",
       "0                      80               38                 31              0   \n",
       "1                      84               40                 37              0   \n",
       "2                      84               47                 25              0   \n",
       "3                      48               22                 18              0   \n",
       "4                      82               37                 33              0   \n",
       "\n",
       "   team_stats_pts  team_stats_ptPctg  team_stats_goalsPerGame  \\\n",
       "0              87               54.4                    3.613   \n",
       "1              87               51.8                    3.667   \n",
       "2             106               63.1                    3.643   \n",
       "3              52               54.2                    2.833   \n",
       "4              86               52.4                    2.622   \n",
       "\n",
       "   team_stats_goalsAgainstPerGame  team_stats_evGGARatio  \\\n",
       "0                           3.238                 1.2314   \n",
       "1                           3.560                 1.2314   \n",
       "2                           2.619                 0.7616   \n",
       "3                           2.521                 0.7616   \n",
       "4                           2.463                 1.0000   \n",
       "\n",
       "   team_stats_powerPlayPercentage  ...  team_location_Pittsburgh  \\\n",
       "0                            17.5  ...                         0   \n",
       "1                            19.2  ...                         0   \n",
       "2                            18.3  ...                         0   \n",
       "3                            13.4  ...                         0   \n",
       "4                            14.9  ...                         0   \n",
       "\n",
       "   team_location_San Jose  team_location_Seattle  team_location_St. Louis  \\\n",
       "0                       0                      0                        0   \n",
       "1                       0                      0                        0   \n",
       "2                       0                      0                        0   \n",
       "3                       0                      0                        0   \n",
       "4                       0                      0                        0   \n",
       "\n",
       "   team_location_Tampa Bay  team_location_Toronto  team_location_Vancouver  \\\n",
       "0                        0                      0                        0   \n",
       "1                        0                      0                        0   \n",
       "2                        0                      0                        0   \n",
       "3                        0                      0                        0   \n",
       "4                        0                      0                        0   \n",
       "\n",
       "   team_location_Vegas  team_location_Washington  team_location_Winnipeg  \n",
       "0                    0                         0                       0  \n",
       "1                    0                         0                       0  \n",
       "2                    0                         0                       0  \n",
       "3                    0                         0                       0  \n",
       "4                    0                         0                       0  \n",
       "\n",
       "[5 rows x 86 columns]"
      ]
     },
     "execution_count": 4,
     "metadata": {},
     "output_type": "execute_result"
    }
   ],
   "source": [
    "# Create dummy columns for categorical data\n",
    "final_team_stat_df = pd.get_dummies(clean_team_stat_df , columns=['team_name','team_location'])\n",
    "final_team_stat_df.head() "
   ]
  },
  {
   "cell_type": "markdown",
   "metadata": {},
   "source": [
    "Logostic Regression Model with Imbalance Data"
   ]
  },
  {
   "cell_type": "code",
   "execution_count": 7,
   "metadata": {},
   "outputs": [],
   "source": [
    "# Separate the data into labels and features\n",
    "\n",
    "# Separate the y variable, the labels\n",
    "y = final_team_stat_df ['winning_team']\n",
    "\n",
    "# Separate the X variable, the features\n",
    "X = final_team_stat_df .drop(columns=['winning_team'])"
   ]
  },
  {
   "cell_type": "code",
   "execution_count": 8,
   "metadata": {},
   "outputs": [
    {
     "data": {
      "text/plain": [
       "0    823\n",
       "1     31\n",
       "Name: winning_team, dtype: int64"
      ]
     },
     "execution_count": 8,
     "metadata": {},
     "output_type": "execute_result"
    }
   ],
   "source": [
    "# Check the balance of our target values\n",
    "y.value_counts()"
   ]
  },
  {
   "cell_type": "code",
   "execution_count": 9,
   "metadata": {},
   "outputs": [],
   "source": [
    "# Import the train_test_learn module LogisticRegression\n",
    "from sklearn.model_selection import train_test_split\n",
    "\n",
    "# Split the data using train_test_split\n",
    "X_train, X_test, y_train, y_test = train_test_split(X, y, shuffle=False,random_state=1)\n",
    "# Assign a random_state of 1 to the function\n",
    "from sklearn.linear_model import LogisticRegression\n",
    "logistic_regression_model = LogisticRegression(random_state=1)"
   ]
  },
  {
   "cell_type": "code",
   "execution_count": 10,
   "metadata": {},
   "outputs": [
    {
     "name": "stderr",
     "output_type": "stream",
     "text": [
      "c:\\Users\\User\\anaconda3\\envs\\dev\\lib\\site-packages\\sklearn\\linear_model\\_logistic.py:458: ConvergenceWarning: lbfgs failed to converge (status=1):\n",
      "STOP: TOTAL NO. of ITERATIONS REACHED LIMIT.\n",
      "\n",
      "Increase the number of iterations (max_iter) or scale the data as shown in:\n",
      "    https://scikit-learn.org/stable/modules/preprocessing.html\n",
      "Please also refer to the documentation for alternative solver options:\n",
      "    https://scikit-learn.org/stable/modules/linear_model.html#logistic-regression\n",
      "  n_iter_i = _check_optimize_result(\n"
     ]
    }
   ],
   "source": [
    "# Fit the model using training data\n",
    "lr_model = logistic_regression_model.fit(X_train, y_train)"
   ]
  },
  {
   "cell_type": "code",
   "execution_count": 11,
   "metadata": {},
   "outputs": [],
   "source": [
    "# Make a prediction using the testing data\n",
    "#Generate training predictions\n",
    "training_predictions = lr_model.predict(X_train)\n",
    "#Generate testing predictions\n",
    "testing_predictions = logistic_regression_model.predict(X_test)"
   ]
  },
  {
   "cell_type": "code",
   "execution_count": 12,
   "metadata": {},
   "outputs": [
    {
     "data": {
      "text/plain": [
       "0.5"
      ]
     },
     "execution_count": 12,
     "metadata": {},
     "output_type": "execute_result"
    }
   ],
   "source": [
    "# Print the balanced_accuracy score of the model\n",
    "logistic_score = balanced_accuracy_score(y_test, testing_predictions)\n",
    "logistic_score"
   ]
  },
  {
   "cell_type": "code",
   "execution_count": 13,
   "metadata": {},
   "outputs": [
    {
     "name": "stdout",
     "output_type": "stream",
     "text": [
      "the confusion matrix for the training data\n",
      "[[611   3]\n",
      " [ 26   0]]\n",
      "the confusion matrix for the test data\n",
      "[[209   0]\n",
      " [  5   0]]\n"
     ]
    }
   ],
   "source": [
    "# Generate a confusion matrix for the model\n",
    "# Create and save the confusion matrix for the training data\n",
    "training_matrix = confusion_matrix(y_train, training_predictions)\n",
    "print(f'the confusion matrix for the training data')\n",
    "print(training_matrix)\n",
    "# Create and save the confusion matrix for the testing data\n",
    "\n",
    "test_matrix = confusion_matrix(y_test, testing_predictions)\n",
    "\n",
    "# Print the confusion matrix for the testing data\n",
    "print(f'the confusion matrix for the test data')\n",
    "print(test_matrix)"
   ]
  },
  {
   "cell_type": "code",
   "execution_count": 14,
   "metadata": {},
   "outputs": [
    {
     "name": "stdout",
     "output_type": "stream",
     "text": [
      "              precision    recall  f1-score   support\n",
      "\n",
      "           0       0.96      1.00      0.98       614\n",
      "           1       0.00      0.00      0.00        26\n",
      "\n",
      "    accuracy                           0.95       640\n",
      "   macro avg       0.48      0.50      0.49       640\n",
      "weighted avg       0.92      0.95      0.94       640\n",
      "\n"
     ]
    }
   ],
   "source": [
    "# Print the classification report for the model\n",
    "# Create and save the training classification report\n",
    "training_report = classification_report(y_train, training_predictions)\n",
    "\n",
    "# Print the training classification report\n",
    "print(training_report)"
   ]
  },
  {
   "cell_type": "code",
   "execution_count": 15,
   "metadata": {},
   "outputs": [
    {
     "data": {
      "text/plain": [
       "['Models_NHL/logisticRegression.pkl']"
      ]
     },
     "execution_count": 15,
     "metadata": {},
     "output_type": "execute_result"
    }
   ],
   "source": [
    "# Save the model into the folder\n",
    "logisticRegression = \"Models_NHL/logisticRegression.pkl\"\n",
    "joblib.dump(lr_model, logisticRegression)"
   ]
  },
  {
   "cell_type": "markdown",
   "metadata": {},
   "source": [
    "RandomOverSampler to balance the data and logistic Regression Model"
   ]
  },
  {
   "cell_type": "code",
   "execution_count": 16,
   "metadata": {},
   "outputs": [],
   "source": [
    "# Import the RandomOverSampler module form imbalanced-learn\n",
    "from imblearn.over_sampling import RandomOverSampler\n",
    "\n",
    "# Instantiate the random oversampler model\n",
    "# # Assign a random_state parameter of 1 to the model\n",
    "ros = RandomOverSampler(random_state=1)\n",
    "\n",
    "# Fit the original training data to the random_oversampler model\n",
    "x_res, y_res = ros.fit_resample(X_train, y_train)"
   ]
  },
  {
   "cell_type": "code",
   "execution_count": 17,
   "metadata": {},
   "outputs": [
    {
     "data": {
      "text/plain": [
       "0    614\n",
       "1    614\n",
       "Name: winning_team, dtype: int64"
      ]
     },
     "execution_count": 17,
     "metadata": {},
     "output_type": "execute_result"
    }
   ],
   "source": [
    "# Count the distinct values of the resampled labels data\n",
    "# Balanced Data\n",
    "y_res.value_counts()"
   ]
  },
  {
   "cell_type": "code",
   "execution_count": 18,
   "metadata": {},
   "outputs": [
    {
     "name": "stderr",
     "output_type": "stream",
     "text": [
      "c:\\Users\\User\\anaconda3\\envs\\dev\\lib\\site-packages\\sklearn\\linear_model\\_logistic.py:458: ConvergenceWarning: lbfgs failed to converge (status=1):\n",
      "STOP: TOTAL NO. of ITERATIONS REACHED LIMIT.\n",
      "\n",
      "Increase the number of iterations (max_iter) or scale the data as shown in:\n",
      "    https://scikit-learn.org/stable/modules/preprocessing.html\n",
      "Please also refer to the documentation for alternative solver options:\n",
      "    https://scikit-learn.org/stable/modules/linear_model.html#logistic-regression\n",
      "  n_iter_i = _check_optimize_result(\n"
     ]
    }
   ],
   "source": [
    "# Instantiate the Logistic Regression model\n",
    "# Assign a random_state parameter of 1 to the model\n",
    "classifier = LogisticRegression(solver='lbfgs', random_state=1)\n",
    "\n",
    "# Fit the model using the resampled training data\n",
    "classifier.fit(x_res, y_res)\n",
    "# Make a prediction using the testing data\n",
    "predictions = classifier.predict(X_test)"
   ]
  },
  {
   "cell_type": "code",
   "execution_count": 19,
   "metadata": {},
   "outputs": [
    {
     "data": {
      "text/plain": [
       "0.6449760765550239"
      ]
     },
     "execution_count": 19,
     "metadata": {},
     "output_type": "execute_result"
    }
   ],
   "source": [
    "# Print the balanced_accuracy score of the model \n",
    "predicted_log_score = balanced_accuracy_score(y_test, predictions)\n",
    "predicted_log_score"
   ]
  },
  {
   "cell_type": "code",
   "execution_count": 20,
   "metadata": {},
   "outputs": [
    {
     "data": {
      "text/plain": [
       "array([[186,  23],\n",
       "       [  3,   2]], dtype=int64)"
      ]
     },
     "execution_count": 20,
     "metadata": {},
     "output_type": "execute_result"
    }
   ],
   "source": [
    "# Generate a confusion matrix for the model\n",
    "predicted_log_matrix = confusion_matrix(y_test, predictions)\n",
    "predicted_log_matrix"
   ]
  },
  {
   "cell_type": "code",
   "execution_count": 21,
   "metadata": {},
   "outputs": [
    {
     "name": "stdout",
     "output_type": "stream",
     "text": [
      "              precision    recall  f1-score   support\n",
      "\n",
      "           0       0.98      0.89      0.93       209\n",
      "           1       0.08      0.40      0.13         5\n",
      "\n",
      "    accuracy                           0.88       214\n",
      "   macro avg       0.53      0.64      0.53       214\n",
      "weighted avg       0.96      0.88      0.92       214\n",
      "\n"
     ]
    }
   ],
   "source": [
    "# Print the classification report for the model\n",
    "predicted_log_report = classification_report(y_test, predictions)\n",
    "print(predicted_log_report)"
   ]
  },
  {
   "cell_type": "code",
   "execution_count": 58,
   "metadata": {},
   "outputs": [
    {
     "data": {
      "text/plain": [
       "['Models_NHL/logisticRegression_ROS.pkl']"
      ]
     },
     "execution_count": 58,
     "metadata": {},
     "output_type": "execute_result"
    }
   ],
   "source": [
    "# Save the model into the folder\n",
    "logisticRegression_ROS = \"Models_NHL/logisticRegression_ROS.pkl\"\n",
    "joblib.dump(classifier, logisticRegression_ROS)"
   ]
  },
  {
   "cell_type": "markdown",
   "metadata": {},
   "source": [
    "RandomOverSampler to balance the data and DecisionTreeClassifier Model"
   ]
  },
  {
   "cell_type": "code",
   "execution_count": 23,
   "metadata": {},
   "outputs": [],
   "source": [
    "from sklearn.tree import DecisionTreeClassifier\n",
    "X_train, X_test, y_train, y_test = train_test_split(x_res, y_res, random_state=42)"
   ]
  },
  {
   "cell_type": "code",
   "execution_count": 24,
   "metadata": {},
   "outputs": [],
   "source": [
    "# Create the decision tree classifier\n",
    "#clf = DecisionTreeClassifier(criterion='gini',class_weight={0:0.13,1:0.83},random_state=42)\n",
    "clf = DecisionTreeClassifier(random_state=42)\n",
    "# Train the classifier on the training data\n",
    "clf.fit(X_train, y_train)\n",
    "y_pred = clf.predict(X_test)"
   ]
  },
  {
   "cell_type": "code",
   "execution_count": 25,
   "metadata": {},
   "outputs": [
    {
     "data": {
      "text/plain": [
       "array([[146,   7],\n",
       "       [  0, 154]], dtype=int64)"
      ]
     },
     "execution_count": 25,
     "metadata": {},
     "output_type": "execute_result"
    }
   ],
   "source": [
    "\n",
    "DCTree_predicted_log_matrix = confusion_matrix(y_test, y_pred)\n",
    "DCTree_predicted_log_matrix"
   ]
  },
  {
   "cell_type": "code",
   "execution_count": 26,
   "metadata": {},
   "outputs": [
    {
     "name": "stdout",
     "output_type": "stream",
     "text": [
      "              precision    recall  f1-score   support\n",
      "\n",
      "           0       1.00      0.95      0.98       153\n",
      "           1       0.96      1.00      0.98       154\n",
      "\n",
      "    accuracy                           0.98       307\n",
      "   macro avg       0.98      0.98      0.98       307\n",
      "weighted avg       0.98      0.98      0.98       307\n",
      "\n"
     ]
    }
   ],
   "source": [
    "DCTree_predicted_log_report = classification_report(y_test, y_pred)\n",
    "print(DCTree_predicted_log_report)"
   ]
  },
  {
   "cell_type": "code",
   "execution_count": 59,
   "metadata": {},
   "outputs": [
    {
     "data": {
      "text/plain": [
       "['Models_NHL/DCTree_ROS.pkl']"
      ]
     },
     "execution_count": 59,
     "metadata": {},
     "output_type": "execute_result"
    }
   ],
   "source": [
    "# Save the model into the folder\n",
    "DCTree_ROS = \"Models_NHL/DCTree_ROS.pkl\"\n",
    "joblib.dump(clf, DCTree_ROS)"
   ]
  },
  {
   "cell_type": "markdown",
   "metadata": {},
   "source": [
    "RandomOverSampler to balance the data and DecisionTreeClassifier Model with class Weight"
   ]
  },
  {
   "cell_type": "code",
   "execution_count": 28,
   "metadata": {},
   "outputs": [],
   "source": [
    "from sklearn.tree import DecisionTreeClassifier\n",
    "X_train, X_test, y_train, y_test = train_test_split(x_res, y_res, random_state=42)"
   ]
  },
  {
   "cell_type": "code",
   "execution_count": 29,
   "metadata": {},
   "outputs": [],
   "source": [
    "# Create the decision tree classifier\n",
    "clf = DecisionTreeClassifier(criterion='gini',class_weight={0:0.13,1:0.83},random_state=42)\n",
    "# Train the classifier on the training data\n",
    "clf.fit(X_train, y_train)\n",
    "y_pred = clf.predict(X_test)"
   ]
  },
  {
   "cell_type": "code",
   "execution_count": 30,
   "metadata": {},
   "outputs": [
    {
     "data": {
      "text/plain": [
       "array([[149,   4],\n",
       "       [  0, 154]], dtype=int64)"
      ]
     },
     "execution_count": 30,
     "metadata": {},
     "output_type": "execute_result"
    }
   ],
   "source": [
    "DCTreeW_predicted_log_matrix = confusion_matrix(y_test, y_pred)\n",
    "DCTreeW_predicted_log_matrix"
   ]
  },
  {
   "cell_type": "code",
   "execution_count": 31,
   "metadata": {},
   "outputs": [
    {
     "name": "stdout",
     "output_type": "stream",
     "text": [
      "              precision    recall  f1-score   support\n",
      "\n",
      "           0       1.00      0.97      0.99       153\n",
      "           1       0.97      1.00      0.99       154\n",
      "\n",
      "    accuracy                           0.99       307\n",
      "   macro avg       0.99      0.99      0.99       307\n",
      "weighted avg       0.99      0.99      0.99       307\n",
      "\n"
     ]
    }
   ],
   "source": [
    "DCTreeW_predicted_log_report = classification_report(y_test, y_pred)\n",
    "print(DCTreeW_predicted_log_report)"
   ]
  },
  {
   "cell_type": "markdown",
   "metadata": {},
   "source": [
    "Optimized Model"
   ]
  },
  {
   "cell_type": "code",
   "execution_count": 60,
   "metadata": {},
   "outputs": [
    {
     "data": {
      "text/plain": [
       "['Models_NHL/DCTreeCW_ROS.pkl']"
      ]
     },
     "execution_count": 60,
     "metadata": {},
     "output_type": "execute_result"
    }
   ],
   "source": [
    "# Save the model into the folder\n",
    "DCTreeCW_ROS = \"Models_NHL/DCTreeCW_ROS.pkl\"\n",
    "joblib.dump(clf, DCTreeCW_ROS)"
   ]
  },
  {
   "cell_type": "markdown",
   "metadata": {},
   "source": [
    "Under Sampling with DCTree Model"
   ]
  },
  {
   "cell_type": "code",
   "execution_count": 33,
   "metadata": {},
   "outputs": [],
   "source": [
    "# Option1 Under sampling\n",
    "# value count of winning and losing data\n",
    "losing_team_stat_count,winning_team_stat_count =final_team_stat_df.winning_team.value_counts()\n",
    "\n",
    "df_winning_team_stat=final_team_stat_df[final_team_stat_df['winning_team']==1]\n",
    "df_losing_team_stat=final_team_stat_df[final_team_stat_df['winning_team']==0]"
   ]
  },
  {
   "cell_type": "code",
   "execution_count": 34,
   "metadata": {},
   "outputs": [
    {
     "data": {
      "text/plain": [
       "(823, 86)"
      ]
     },
     "execution_count": 34,
     "metadata": {},
     "output_type": "execute_result"
    }
   ],
   "source": [
    "# Verify the count of losing data\n",
    "df_losing_team_stat.shape"
   ]
  },
  {
   "cell_type": "code",
   "execution_count": 35,
   "metadata": {},
   "outputs": [
    {
     "data": {
      "text/plain": [
       "(31, 86)"
      ]
     },
     "execution_count": 35,
     "metadata": {},
     "output_type": "execute_result"
    }
   ],
   "source": [
    "# Verify the count of winning data\n",
    "df_winning_team_stat.shape\n"
   ]
  },
  {
   "cell_type": "code",
   "execution_count": 36,
   "metadata": {},
   "outputs": [
    {
     "data": {
      "text/html": [
       "<div>\n",
       "<style scoped>\n",
       "    .dataframe tbody tr th:only-of-type {\n",
       "        vertical-align: middle;\n",
       "    }\n",
       "\n",
       "    .dataframe tbody tr th {\n",
       "        vertical-align: top;\n",
       "    }\n",
       "\n",
       "    .dataframe thead th {\n",
       "        text-align: right;\n",
       "    }\n",
       "</style>\n",
       "<table border=\"1\" class=\"dataframe\">\n",
       "  <thead>\n",
       "    <tr style=\"text-align: right;\">\n",
       "      <th></th>\n",
       "      <th>team_stats_gamesPlayed</th>\n",
       "      <th>team_stats_wins</th>\n",
       "      <th>team_stats_losses</th>\n",
       "      <th>team_stats_ot</th>\n",
       "      <th>team_stats_pts</th>\n",
       "      <th>team_stats_ptPctg</th>\n",
       "      <th>team_stats_goalsPerGame</th>\n",
       "      <th>team_stats_goalsAgainstPerGame</th>\n",
       "      <th>team_stats_evGGARatio</th>\n",
       "      <th>team_stats_powerPlayPercentage</th>\n",
       "      <th>...</th>\n",
       "      <th>team_location_Pittsburgh</th>\n",
       "      <th>team_location_San Jose</th>\n",
       "      <th>team_location_Seattle</th>\n",
       "      <th>team_location_St. Louis</th>\n",
       "      <th>team_location_Tampa Bay</th>\n",
       "      <th>team_location_Toronto</th>\n",
       "      <th>team_location_Vancouver</th>\n",
       "      <th>team_location_Vegas</th>\n",
       "      <th>team_location_Washington</th>\n",
       "      <th>team_location_Winnipeg</th>\n",
       "    </tr>\n",
       "  </thead>\n",
       "  <tbody>\n",
       "    <tr>\n",
       "      <th>852</th>\n",
       "      <td>82</td>\n",
       "      <td>27</td>\n",
       "      <td>49</td>\n",
       "      <td>6</td>\n",
       "      <td>60</td>\n",
       "      <td>36.6</td>\n",
       "      <td>2.598</td>\n",
       "      <td>3.463</td>\n",
       "      <td>0.8042</td>\n",
       "      <td>14.6</td>\n",
       "      <td>...</td>\n",
       "      <td>0</td>\n",
       "      <td>0</td>\n",
       "      <td>1</td>\n",
       "      <td>0</td>\n",
       "      <td>0</td>\n",
       "      <td>0</td>\n",
       "      <td>0</td>\n",
       "      <td>0</td>\n",
       "      <td>0</td>\n",
       "      <td>0</td>\n",
       "    </tr>\n",
       "    <tr>\n",
       "      <th>234</th>\n",
       "      <td>82</td>\n",
       "      <td>39</td>\n",
       "      <td>33</td>\n",
       "      <td>10</td>\n",
       "      <td>88</td>\n",
       "      <td>53.7</td>\n",
       "      <td>2.561</td>\n",
       "      <td>2.659</td>\n",
       "      <td>0.9041</td>\n",
       "      <td>21.8</td>\n",
       "      <td>...</td>\n",
       "      <td>0</td>\n",
       "      <td>0</td>\n",
       "      <td>0</td>\n",
       "      <td>0</td>\n",
       "      <td>0</td>\n",
       "      <td>0</td>\n",
       "      <td>0</td>\n",
       "      <td>0</td>\n",
       "      <td>0</td>\n",
       "      <td>0</td>\n",
       "    </tr>\n",
       "    <tr>\n",
       "      <th>786</th>\n",
       "      <td>82</td>\n",
       "      <td>33</td>\n",
       "      <td>42</td>\n",
       "      <td>7</td>\n",
       "      <td>73</td>\n",
       "      <td>44.5</td>\n",
       "      <td>2.390</td>\n",
       "      <td>2.976</td>\n",
       "      <td>0.8496</td>\n",
       "      <td>14.8</td>\n",
       "      <td>...</td>\n",
       "      <td>0</td>\n",
       "      <td>0</td>\n",
       "      <td>0</td>\n",
       "      <td>0</td>\n",
       "      <td>0</td>\n",
       "      <td>0</td>\n",
       "      <td>0</td>\n",
       "      <td>0</td>\n",
       "      <td>0</td>\n",
       "      <td>0</td>\n",
       "    </tr>\n",
       "    <tr>\n",
       "      <th>319</th>\n",
       "      <td>82</td>\n",
       "      <td>45</td>\n",
       "      <td>30</td>\n",
       "      <td>7</td>\n",
       "      <td>97</td>\n",
       "      <td>59.1</td>\n",
       "      <td>2.878</td>\n",
       "      <td>2.695</td>\n",
       "      <td>1.0000</td>\n",
       "      <td>18.7</td>\n",
       "      <td>...</td>\n",
       "      <td>0</td>\n",
       "      <td>0</td>\n",
       "      <td>0</td>\n",
       "      <td>0</td>\n",
       "      <td>0</td>\n",
       "      <td>0</td>\n",
       "      <td>0</td>\n",
       "      <td>0</td>\n",
       "      <td>0</td>\n",
       "      <td>0</td>\n",
       "    </tr>\n",
       "    <tr>\n",
       "      <th>168</th>\n",
       "      <td>82</td>\n",
       "      <td>29</td>\n",
       "      <td>37</td>\n",
       "      <td>16</td>\n",
       "      <td>74</td>\n",
       "      <td>45.1</td>\n",
       "      <td>2.780</td>\n",
       "      <td>3.146</td>\n",
       "      <td>0.9412</td>\n",
       "      <td>14.8</td>\n",
       "      <td>...</td>\n",
       "      <td>0</td>\n",
       "      <td>0</td>\n",
       "      <td>0</td>\n",
       "      <td>0</td>\n",
       "      <td>0</td>\n",
       "      <td>0</td>\n",
       "      <td>0</td>\n",
       "      <td>0</td>\n",
       "      <td>0</td>\n",
       "      <td>0</td>\n",
       "    </tr>\n",
       "  </tbody>\n",
       "</table>\n",
       "<p>5 rows × 86 columns</p>\n",
       "</div>"
      ],
      "text/plain": [
       "     team_stats_gamesPlayed  team_stats_wins  team_stats_losses  \\\n",
       "852                      82               27                 49   \n",
       "234                      82               39                 33   \n",
       "786                      82               33                 42   \n",
       "319                      82               45                 30   \n",
       "168                      82               29                 37   \n",
       "\n",
       "     team_stats_ot  team_stats_pts  team_stats_ptPctg  \\\n",
       "852              6              60               36.6   \n",
       "234             10              88               53.7   \n",
       "786              7              73               44.5   \n",
       "319              7              97               59.1   \n",
       "168             16              74               45.1   \n",
       "\n",
       "     team_stats_goalsPerGame  team_stats_goalsAgainstPerGame  \\\n",
       "852                    2.598                           3.463   \n",
       "234                    2.561                           2.659   \n",
       "786                    2.390                           2.976   \n",
       "319                    2.878                           2.695   \n",
       "168                    2.780                           3.146   \n",
       "\n",
       "     team_stats_evGGARatio  team_stats_powerPlayPercentage  ...  \\\n",
       "852                 0.8042                            14.6  ...   \n",
       "234                 0.9041                            21.8  ...   \n",
       "786                 0.8496                            14.8  ...   \n",
       "319                 1.0000                            18.7  ...   \n",
       "168                 0.9412                            14.8  ...   \n",
       "\n",
       "     team_location_Pittsburgh  team_location_San Jose  team_location_Seattle  \\\n",
       "852                         0                       0                      1   \n",
       "234                         0                       0                      0   \n",
       "786                         0                       0                      0   \n",
       "319                         0                       0                      0   \n",
       "168                         0                       0                      0   \n",
       "\n",
       "     team_location_St. Louis  team_location_Tampa Bay  team_location_Toronto  \\\n",
       "852                        0                        0                      0   \n",
       "234                        0                        0                      0   \n",
       "786                        0                        0                      0   \n",
       "319                        0                        0                      0   \n",
       "168                        0                        0                      0   \n",
       "\n",
       "     team_location_Vancouver  team_location_Vegas  team_location_Washington  \\\n",
       "852                        0                    0                         0   \n",
       "234                        0                    0                         0   \n",
       "786                        0                    0                         0   \n",
       "319                        0                    0                         0   \n",
       "168                        0                    0                         0   \n",
       "\n",
       "     team_location_Winnipeg  \n",
       "852                       0  \n",
       "234                       0  \n",
       "786                       0  \n",
       "319                       0  \n",
       "168                       0  \n",
       "\n",
       "[5 rows x 86 columns]"
      ]
     },
     "execution_count": 36,
     "metadata": {},
     "output_type": "execute_result"
    }
   ],
   "source": [
    "#create under sample losing data\n",
    "df_losing_team_stat_underCount= df_losing_team_stat.sample(winning_team_stat_count)\n",
    "df_losing_team_stat_underCount.head()"
   ]
  },
  {
   "cell_type": "code",
   "execution_count": 37,
   "metadata": {},
   "outputs": [
    {
     "name": "stdout",
     "output_type": "stream",
     "text": [
      "random under sample\n",
      "0    31\n",
      "1    31\n",
      "Name: winning_team, dtype: int64\n"
     ]
    }
   ],
   "source": [
    "#contact two winning and losing team dataframe with total 62 rows\n",
    "UnderCount_df=pd.concat([df_losing_team_stat_underCount,df_winning_team_stat],axis =0)\n",
    "print(\"random under sample\")\n",
    "print(UnderCount_df.winning_team.value_counts())"
   ]
  },
  {
   "cell_type": "code",
   "execution_count": 38,
   "metadata": {},
   "outputs": [],
   "source": [
    "\n",
    "# Separate the y variable, the labels\n",
    "y = UnderCount_df ['winning_team']\n",
    "\n",
    "# Separate the X variable, the features\n",
    "X = UnderCount_df .drop(columns=['winning_team'])"
   ]
  },
  {
   "cell_type": "code",
   "execution_count": 39,
   "metadata": {},
   "outputs": [],
   "source": [
    "from sklearn.tree import DecisionTreeClassifier\n",
    "X_train, X_test, y_train, y_test = train_test_split(X, y, test_size=0.2, random_state=42,stratify=y)\n",
    "\n",
    "# Create the decision tree classifier\n",
    "clf = DecisionTreeClassifier(criterion='gini',class_weight={0:0.13,1:0.83},random_state=42)\n",
    "\n",
    "# Train the classifier on the training data\n",
    "clf.fit(X_train, y_train)\n",
    "y_pred = clf.predict(X_test)"
   ]
  },
  {
   "cell_type": "code",
   "execution_count": 40,
   "metadata": {},
   "outputs": [
    {
     "data": {
      "text/plain": [
       "array([[7, 0],\n",
       "       [2, 4]], dtype=int64)"
      ]
     },
     "execution_count": 40,
     "metadata": {},
     "output_type": "execute_result"
    }
   ],
   "source": [
    "underCount_matrix = confusion_matrix(y_test, y_pred)\n",
    "underCount_matrix"
   ]
  },
  {
   "cell_type": "code",
   "execution_count": 41,
   "metadata": {},
   "outputs": [
    {
     "name": "stdout",
     "output_type": "stream",
     "text": [
      "              precision    recall  f1-score   support\n",
      "\n",
      "           0       0.78      1.00      0.88         7\n",
      "           1       1.00      0.67      0.80         6\n",
      "\n",
      "    accuracy                           0.85        13\n",
      "   macro avg       0.89      0.83      0.84        13\n",
      "weighted avg       0.88      0.85      0.84        13\n",
      "\n"
     ]
    }
   ],
   "source": [
    "UnderCount_report = classification_report(y_test, y_pred)\n",
    "print(UnderCount_report)"
   ]
  },
  {
   "cell_type": "code",
   "execution_count": 61,
   "metadata": {},
   "outputs": [
    {
     "data": {
      "text/plain": [
       "['Models_NHL/DCTreeCW_US.pkl']"
      ]
     },
     "execution_count": 61,
     "metadata": {},
     "output_type": "execute_result"
    }
   ],
   "source": [
    "# Save the model into the folder\n",
    "DCTreeCW_US = \"Models_NHL/DCTreeCW_US.pkl\"\n",
    "joblib.dump(clf, DCTreeCW_US)"
   ]
  },
  {
   "cell_type": "markdown",
   "metadata": {},
   "source": [
    "Over Sampling with DCTree Model"
   ]
  },
  {
   "cell_type": "code",
   "execution_count": 43,
   "metadata": {},
   "outputs": [
    {
     "data": {
      "text/plain": [
       "(823, 31)"
      ]
     },
     "execution_count": 43,
     "metadata": {},
     "output_type": "execute_result"
    }
   ],
   "source": [
    "# Option1 Over sampling\n",
    "losing_team_stat_count,winning_team_stat_count"
   ]
  },
  {
   "cell_type": "code",
   "execution_count": 44,
   "metadata": {},
   "outputs": [
    {
     "data": {
      "text/html": [
       "<div>\n",
       "<style scoped>\n",
       "    .dataframe tbody tr th:only-of-type {\n",
       "        vertical-align: middle;\n",
       "    }\n",
       "\n",
       "    .dataframe tbody tr th {\n",
       "        vertical-align: top;\n",
       "    }\n",
       "\n",
       "    .dataframe thead th {\n",
       "        text-align: right;\n",
       "    }\n",
       "</style>\n",
       "<table border=\"1\" class=\"dataframe\">\n",
       "  <thead>\n",
       "    <tr style=\"text-align: right;\">\n",
       "      <th></th>\n",
       "      <th>team_stats_gamesPlayed</th>\n",
       "      <th>team_stats_wins</th>\n",
       "      <th>team_stats_losses</th>\n",
       "      <th>team_stats_ot</th>\n",
       "      <th>team_stats_pts</th>\n",
       "      <th>team_stats_ptPctg</th>\n",
       "      <th>team_stats_goalsPerGame</th>\n",
       "      <th>team_stats_goalsAgainstPerGame</th>\n",
       "      <th>team_stats_evGGARatio</th>\n",
       "      <th>team_stats_powerPlayPercentage</th>\n",
       "      <th>...</th>\n",
       "      <th>team_location_Pittsburgh</th>\n",
       "      <th>team_location_San Jose</th>\n",
       "      <th>team_location_Seattle</th>\n",
       "      <th>team_location_St. Louis</th>\n",
       "      <th>team_location_Tampa Bay</th>\n",
       "      <th>team_location_Toronto</th>\n",
       "      <th>team_location_Vancouver</th>\n",
       "      <th>team_location_Vegas</th>\n",
       "      <th>team_location_Washington</th>\n",
       "      <th>team_location_Winnipeg</th>\n",
       "    </tr>\n",
       "  </thead>\n",
       "  <tbody>\n",
       "    <tr>\n",
       "      <th>3</th>\n",
       "      <td>48</td>\n",
       "      <td>22</td>\n",
       "      <td>18</td>\n",
       "      <td>0</td>\n",
       "      <td>52</td>\n",
       "      <td>54.2</td>\n",
       "      <td>2.833</td>\n",
       "      <td>2.521</td>\n",
       "      <td>0.7616</td>\n",
       "      <td>13.4</td>\n",
       "      <td>...</td>\n",
       "      <td>0</td>\n",
       "      <td>0</td>\n",
       "      <td>0</td>\n",
       "      <td>0</td>\n",
       "      <td>0</td>\n",
       "      <td>0</td>\n",
       "      <td>0</td>\n",
       "      <td>0</td>\n",
       "      <td>0</td>\n",
       "      <td>0</td>\n",
       "    </tr>\n",
       "    <tr>\n",
       "      <th>536</th>\n",
       "      <td>82</td>\n",
       "      <td>45</td>\n",
       "      <td>28</td>\n",
       "      <td>9</td>\n",
       "      <td>99</td>\n",
       "      <td>60.4</td>\n",
       "      <td>2.976</td>\n",
       "      <td>2.683</td>\n",
       "      <td>1.1361</td>\n",
       "      <td>21.1</td>\n",
       "      <td>...</td>\n",
       "      <td>0</td>\n",
       "      <td>0</td>\n",
       "      <td>0</td>\n",
       "      <td>1</td>\n",
       "      <td>0</td>\n",
       "      <td>0</td>\n",
       "      <td>0</td>\n",
       "      <td>0</td>\n",
       "      <td>0</td>\n",
       "      <td>0</td>\n",
       "    </tr>\n",
       "    <tr>\n",
       "      <th>64</th>\n",
       "      <td>84</td>\n",
       "      <td>52</td>\n",
       "      <td>24</td>\n",
       "      <td>0</td>\n",
       "      <td>112</td>\n",
       "      <td>66.7</td>\n",
       "      <td>3.560</td>\n",
       "      <td>2.750</td>\n",
       "      <td>0.7468</td>\n",
       "      <td>23.0</td>\n",
       "      <td>...</td>\n",
       "      <td>0</td>\n",
       "      <td>0</td>\n",
       "      <td>0</td>\n",
       "      <td>0</td>\n",
       "      <td>0</td>\n",
       "      <td>0</td>\n",
       "      <td>0</td>\n",
       "      <td>0</td>\n",
       "      <td>0</td>\n",
       "      <td>0</td>\n",
       "    </tr>\n",
       "    <tr>\n",
       "      <th>738</th>\n",
       "      <td>82</td>\n",
       "      <td>40</td>\n",
       "      <td>27</td>\n",
       "      <td>15</td>\n",
       "      <td>95</td>\n",
       "      <td>57.9</td>\n",
       "      <td>2.293</td>\n",
       "      <td>2.073</td>\n",
       "      <td>0.9752</td>\n",
       "      <td>17.0</td>\n",
       "      <td>...</td>\n",
       "      <td>0</td>\n",
       "      <td>0</td>\n",
       "      <td>0</td>\n",
       "      <td>0</td>\n",
       "      <td>0</td>\n",
       "      <td>0</td>\n",
       "      <td>0</td>\n",
       "      <td>0</td>\n",
       "      <td>0</td>\n",
       "      <td>0</td>\n",
       "    </tr>\n",
       "    <tr>\n",
       "      <th>444</th>\n",
       "      <td>48</td>\n",
       "      <td>36</td>\n",
       "      <td>7</td>\n",
       "      <td>5</td>\n",
       "      <td>77</td>\n",
       "      <td>80.2</td>\n",
       "      <td>3.104</td>\n",
       "      <td>2.021</td>\n",
       "      <td>1.5211</td>\n",
       "      <td>16.7</td>\n",
       "      <td>...</td>\n",
       "      <td>0</td>\n",
       "      <td>0</td>\n",
       "      <td>0</td>\n",
       "      <td>0</td>\n",
       "      <td>0</td>\n",
       "      <td>0</td>\n",
       "      <td>0</td>\n",
       "      <td>0</td>\n",
       "      <td>0</td>\n",
       "      <td>0</td>\n",
       "    </tr>\n",
       "  </tbody>\n",
       "</table>\n",
       "<p>5 rows × 86 columns</p>\n",
       "</div>"
      ],
      "text/plain": [
       "     team_stats_gamesPlayed  team_stats_wins  team_stats_losses  \\\n",
       "3                        48               22                 18   \n",
       "536                      82               45                 28   \n",
       "64                       84               52                 24   \n",
       "738                      82               40                 27   \n",
       "444                      48               36                  7   \n",
       "\n",
       "     team_stats_ot  team_stats_pts  team_stats_ptPctg  \\\n",
       "3                0              52               54.2   \n",
       "536              9              99               60.4   \n",
       "64               0             112               66.7   \n",
       "738             15              95               57.9   \n",
       "444              5              77               80.2   \n",
       "\n",
       "     team_stats_goalsPerGame  team_stats_goalsAgainstPerGame  \\\n",
       "3                      2.833                           2.521   \n",
       "536                    2.976                           2.683   \n",
       "64                     3.560                           2.750   \n",
       "738                    2.293                           2.073   \n",
       "444                    3.104                           2.021   \n",
       "\n",
       "     team_stats_evGGARatio  team_stats_powerPlayPercentage  ...  \\\n",
       "3                   0.7616                            13.4  ...   \n",
       "536                 1.1361                            21.1  ...   \n",
       "64                  0.7468                            23.0  ...   \n",
       "738                 0.9752                            17.0  ...   \n",
       "444                 1.5211                            16.7  ...   \n",
       "\n",
       "     team_location_Pittsburgh  team_location_San Jose  team_location_Seattle  \\\n",
       "3                           0                       0                      0   \n",
       "536                         0                       0                      0   \n",
       "64                          0                       0                      0   \n",
       "738                         0                       0                      0   \n",
       "444                         0                       0                      0   \n",
       "\n",
       "     team_location_St. Louis  team_location_Tampa Bay  team_location_Toronto  \\\n",
       "3                          0                        0                      0   \n",
       "536                        1                        0                      0   \n",
       "64                         0                        0                      0   \n",
       "738                        0                        0                      0   \n",
       "444                        0                        0                      0   \n",
       "\n",
       "     team_location_Vancouver  team_location_Vegas  team_location_Washington  \\\n",
       "3                          0                    0                         0   \n",
       "536                        0                    0                         0   \n",
       "64                         0                    0                         0   \n",
       "738                        0                    0                         0   \n",
       "444                        0                    0                         0   \n",
       "\n",
       "     team_location_Winnipeg  \n",
       "3                         0  \n",
       "536                       0  \n",
       "64                        0  \n",
       "738                       0  \n",
       "444                       0  \n",
       "\n",
       "[5 rows x 86 columns]"
      ]
     },
     "execution_count": 44,
     "metadata": {},
     "output_type": "execute_result"
    }
   ],
   "source": [
    "#create over sample winning data\n",
    "df_winning_team_stat_OverCount= df_winning_team_stat.sample(losing_team_stat_count,replace=True)\n",
    "df_winning_team_stat_OverCount.head()"
   ]
  },
  {
   "cell_type": "code",
   "execution_count": 45,
   "metadata": {},
   "outputs": [
    {
     "name": "stdout",
     "output_type": "stream",
     "text": [
      "random over sample\n",
      "1    823\n",
      "0    823\n",
      "Name: winning_team, dtype: int64\n"
     ]
    }
   ],
   "source": [
    "#contact two winning and losing team dataframe with total 1646 rows\n",
    "OverCount_df=pd.concat([df_winning_team_stat_OverCount,df_losing_team_stat],axis =0)\n",
    "print(\"random over sample\")\n",
    "print(OverCount_df.winning_team.value_counts())"
   ]
  },
  {
   "cell_type": "code",
   "execution_count": 46,
   "metadata": {},
   "outputs": [],
   "source": [
    "\n",
    "# Separate the y variable, the labels\n",
    "y = OverCount_df ['winning_team']\n",
    "\n",
    "# Separate the X variable, the features\n",
    "X = OverCount_df .drop(columns=['winning_team'])"
   ]
  },
  {
   "cell_type": "code",
   "execution_count": 47,
   "metadata": {},
   "outputs": [],
   "source": [
    "from sklearn.tree import DecisionTreeClassifier\n",
    "X_train, X_test, y_train, y_test = train_test_split(X, y, test_size=0.2, random_state=42,stratify=y)\n",
    "\n",
    "# Create the decision tree classifier\n",
    "clf = DecisionTreeClassifier(criterion='gini',class_weight={0:0.13,1:0.83},random_state=42)\n",
    "\n",
    "# Train the classifier on the training data\n",
    "clf.fit(X_train, y_train)\n",
    "y_pred = clf.predict(X_test)"
   ]
  },
  {
   "cell_type": "code",
   "execution_count": 48,
   "metadata": {},
   "outputs": [
    {
     "data": {
      "text/plain": [
       "array([[157,   8],\n",
       "       [  0, 165]], dtype=int64)"
      ]
     },
     "execution_count": 48,
     "metadata": {},
     "output_type": "execute_result"
    }
   ],
   "source": [
    "OverCount_matrix = confusion_matrix(y_test, y_pred)\n",
    "OverCount_matrix"
   ]
  },
  {
   "cell_type": "code",
   "execution_count": 49,
   "metadata": {},
   "outputs": [
    {
     "name": "stdout",
     "output_type": "stream",
     "text": [
      "              precision    recall  f1-score   support\n",
      "\n",
      "           0       1.00      0.95      0.98       165\n",
      "           1       0.95      1.00      0.98       165\n",
      "\n",
      "    accuracy                           0.98       330\n",
      "   macro avg       0.98      0.98      0.98       330\n",
      "weighted avg       0.98      0.98      0.98       330\n",
      "\n"
     ]
    }
   ],
   "source": [
    "OverCount_report = classification_report(y_test, y_pred)\n",
    "print(OverCount_report)"
   ]
  },
  {
   "cell_type": "code",
   "execution_count": 62,
   "metadata": {},
   "outputs": [
    {
     "data": {
      "text/plain": [
       "['Models_NHL/DCTreeCW_OS.pkl']"
      ]
     },
     "execution_count": 62,
     "metadata": {},
     "output_type": "execute_result"
    }
   ],
   "source": [
    "# Save the model into the folder\n",
    "DCTreeCW_OS = \"Models_NHL/DCTreeCW_OS.pkl\"\n",
    "joblib.dump(clf, DCTreeCW_OS)"
   ]
  },
  {
   "cell_type": "markdown",
   "metadata": {},
   "source": [
    "SMOTE with DCTree Model"
   ]
  },
  {
   "cell_type": "code",
   "execution_count": 51,
   "metadata": {},
   "outputs": [],
   "source": [
    "#Option3 SMOTE\n",
    "# Separate the y variable, the labels\n",
    "y = final_team_stat_df ['winning_team']\n",
    "\n",
    "# Separate the X variable, the features\n",
    "X = final_team_stat_df.drop(columns=['winning_team'])"
   ]
  },
  {
   "cell_type": "code",
   "execution_count": 52,
   "metadata": {},
   "outputs": [
    {
     "data": {
      "text/plain": [
       "0    823\n",
       "1     31\n",
       "Name: winning_team, dtype: int64"
      ]
     },
     "execution_count": 52,
     "metadata": {},
     "output_type": "execute_result"
    }
   ],
   "source": [
    "y.value_counts()"
   ]
  },
  {
   "cell_type": "code",
   "execution_count": 53,
   "metadata": {},
   "outputs": [
    {
     "data": {
      "text/plain": [
       "0    823\n",
       "1    823\n",
       "Name: winning_team, dtype: int64"
      ]
     },
     "execution_count": 53,
     "metadata": {},
     "output_type": "execute_result"
    }
   ],
   "source": [
    "from imblearn.over_sampling import SMOTE\n",
    "smote = SMOTE(sampling_strategy='minority')\n",
    "X_sm,y_sm=smote.fit_resample(X,y)\n",
    "y_sm.value_counts()"
   ]
  },
  {
   "cell_type": "code",
   "execution_count": 54,
   "metadata": {},
   "outputs": [],
   "source": [
    "from sklearn.tree import DecisionTreeClassifier\n",
    "X_train, X_test, y_train, y_test = train_test_split(X_sm,y_sm, test_size=0.2, random_state=42)\n",
    "\n",
    "# Create the decision tree classifier\n",
    "clf = DecisionTreeClassifier(criterion='gini',class_weight={0:0.13,1:0.83},random_state=42)\n",
    "\n",
    "# Train the classifier on the training data\n",
    "clf.fit(X_train, y_train)\n",
    "y_pred = clf.predict(X_test)"
   ]
  },
  {
   "cell_type": "code",
   "execution_count": 55,
   "metadata": {},
   "outputs": [
    {
     "data": {
      "text/plain": [
       "array([[167,   5],\n",
       "       [  5, 153]], dtype=int64)"
      ]
     },
     "execution_count": 55,
     "metadata": {},
     "output_type": "execute_result"
    }
   ],
   "source": [
    "SMOTE_matrix = confusion_matrix(y_test, y_pred)\n",
    "SMOTE_matrix"
   ]
  },
  {
   "cell_type": "code",
   "execution_count": 56,
   "metadata": {},
   "outputs": [
    {
     "name": "stdout",
     "output_type": "stream",
     "text": [
      "              precision    recall  f1-score   support\n",
      "\n",
      "           0       0.97      0.97      0.97       172\n",
      "           1       0.97      0.97      0.97       158\n",
      "\n",
      "    accuracy                           0.97       330\n",
      "   macro avg       0.97      0.97      0.97       330\n",
      "weighted avg       0.97      0.97      0.97       330\n",
      "\n"
     ]
    }
   ],
   "source": [
    "SMOTE_report = classification_report(y_test, y_pred)\n",
    "print(SMOTE_report)"
   ]
  },
  {
   "cell_type": "code",
   "execution_count": 57,
   "metadata": {},
   "outputs": [
    {
     "data": {
      "text/plain": [
       "['Models_NHL/DCTreeCW_SMOTE.pkl']"
      ]
     },
     "execution_count": 57,
     "metadata": {},
     "output_type": "execute_result"
    }
   ],
   "source": [
    "# Save the model into the folder\n",
    "\n",
    "DCTreeCW_SMOTE = \"Models_NHL/DCTreeCW_SMOTE.pkl\"\n",
    "joblib.dump(clf,DCTreeCW_SMOTE)\n",
    "\n"
   ]
  },
  {
   "cell_type": "code",
   "execution_count": 63,
   "metadata": {},
   "outputs": [
    {
     "name": "stdout",
     "output_type": "stream",
     "text": [
      "Probability of Vegas Golden Knights winning: 100.00%\n"
     ]
    }
   ],
   "source": [
    "import joblib\n",
    "import numpy as np\n",
    "import pandas as pd\n",
    "\n",
    "# Load the saved model from the .pkl file\n",
    "# Replace 'your_model.pkl' with the actual path to your saved model file\n",
    "loaded_model = joblib.load('Models_NHL/DCTreeCW_ROS.pkl')\n",
    "\n",
    "# Create a DataFrame with the same columns as used during training\n",
    "# Include all features, including one-hot encoded team names and team locations\n",
    "new_game_data = pd.DataFrame({\n",
    "    'team_stats_gamesPlayed': [82],\n",
    "    'team_stats_wins': [51],\n",
    "    'team_stats_losses': [22],\n",
    "    'team_stats_ot': [9],\n",
    "    'team_stats_pts': [111],\n",
    "    'team_stats_ptPctg': [67.7],\n",
    "    'team_stats_goalsPerGame': [3.2561],\n",
    "    'team_stats_goalsAgainstPerGame': [2.743902],\n",
    "    'team_stats_evGGARatio': [1.1761],\n",
    "    'team_stats_powerPlayPercentage': [20.3],\n",
    "    'team_stats_powerPlayGoals': [42],\n",
    "    'team_stats_powerPlayGoalsAgainst': [44],\n",
    "    'team_stats_powerPlayOpportunities': [207],\n",
    "    'team_stats_penaltyKillPercentage': [77.4],\n",
    "    'team_stats_shotsPerGame': [31.5488],\n",
    "    'team_stats_shotsAllowed': [30.8902],\n",
    "    'team_stats_winScoreFirst': [0.826],\n",
    "    'team_stats_winOppScoreFirst': [0.361],\n",
    "    'team_stats_winLeadFirstPer': [0.857],\n",
    "    'team_stats_winLeadSecondPer': [0.919],\n",
    "    'team_stats_winOutshootOpp': [0.692],\n",
    "    'team_stats_winOutshotByOpp': [0.541],\n",
    "    'team_name_Anaheim Ducks': [0], \n",
    "    'team_name_Arizona Coyotes': [0],\n",
    "    'team_name_Boston Bruins': [0],\n",
    "    'team_name_Buffalo Sabres': [0], \n",
    "    'team_name_Calgary Flames': [0], \n",
    "    'team_name_Carolina Hurricanes': [0], \n",
    "    'team_name_Chicago Blackhawks': [0], \n",
    "    'team_name_Colorado Avalanche': [0], \n",
    "    'team_name_Columbus Blue Jackets': [0], \n",
    "    'team_name_Dallas Stars': [0], \n",
    "    'team_name_Detroit Red Wings': [0], \n",
    "    'team_name_Edmonton Oilers': [0], \n",
    "    'team_name_Florida Panthers': [0], \n",
    "    'team_name_Los Angeles Kings': [0],\n",
    "    'team_name_Minnesota Wild': [0], \n",
    "    'team_name_Montréal Canadiens': [0], \n",
    "    'team_name_Nashville Predators': [0], \n",
    "    'team_name_New Jersey Devils': [0], \n",
    "    'team_name_New York Islanders': [0], \n",
    "    'team_name_New York Rangers': [0], \n",
    "    'team_name_Ottawa Senators': [0], \n",
    "    'team_name_Philadelphia Flyers': [0], \n",
    "    'team_name_Pittsburgh Penguins': [0], \n",
    "    'team_name_San Jose Sharks': [0], \n",
    "    'team_name_Seattle Kraken': [0], \n",
    "    'team_name_St. Louis Blues': [0], \n",
    "    'team_name_Tampa Bay Lightning': [0], \n",
    "    'team_name_Toronto Maple Leafs': [0], \n",
    "    'team_name_Vancouver Canucks': [0], \n",
    "    'team_name_Vegas Golden Knights': [1], \n",
    "    'team_name_Washington Capitals': [0], \n",
    "    'team_name_Winnipeg Jets': [0], \n",
    "    'team_location_Anaheim': [0], \n",
    "    'team_location_Arizona': [0], \n",
    "    'team_location_Boston': [0], \n",
    "    'team_location_Buffalo': [0], \n",
    "    'team_location_Calgary': [0], \n",
    "    'team_location_Carolina': [0], \n",
    "    'team_location_Chicago': [0], \n",
    "    'team_location_Colorado': [0], \n",
    "    'team_location_Columbus': [0], \n",
    "    'team_location_Dallas': [0], \n",
    "    'team_location_Detroit': [0], \n",
    "    'team_location_Edmonton': [0], \n",
    "    'team_location_Florida': [0], \n",
    "    'team_location_Los Angeles': [0], \n",
    "    'team_location_Minnesota': [0], \n",
    "    'team_location_Montréal': [0], \n",
    "    'team_location_Nashville': [0], \n",
    "    'team_location_New Jersey': [0], \n",
    "    'team_location_New York': [0], \n",
    "    'team_location_Ottawa': [0], \n",
    "    'team_location_Philadelphia': [0], \n",
    "    'team_location_Pittsburgh': [0], \n",
    "    'team_location_San Jose': [0], \n",
    "    'team_location_Seattle': [0], \n",
    "    'team_location_St. Louis': [0], \n",
    "    'team_location_Tampa Bay': [0], \n",
    "    'team_location_Toronto': [0], \n",
    "    'team_location_Vancouver': [0], \n",
    "    'team_location_Vegas': [1], \n",
    "    'team_location_Washington': [0], \n",
    "    'team_location_Winnipeg': [0]\n",
    "\n",
    "\n",
    "})\n",
    "\n",
    "# Predict the probability of each class (team winning or losing)\n",
    "predicted_probabilities = loaded_model.predict_proba(new_game_data)\n",
    "\n",
    "# Extract the probability of each team winning (class 1)\n",
    "team_win_probabilities = predicted_probabilities[:, 1]\n",
    "\n",
    "# Calculate the probability as a percentage\n",
    "team_win_probabilities_percent = [prob * 100 for prob in team_win_probabilities]\n",
    "\n",
    "# You can print or use these probabilities as needed\n",
    "for i, team in enumerate(['Vegas Golden Knights']):\n",
    "    print(f\"Probability of {team} winning: {team_win_probabilities_percent[i]:.2f}%\")\n",
    "\n"
   ]
  }
 ],
 "metadata": {
  "kernelspec": {
   "display_name": "dev",
   "language": "python",
   "name": "python3"
  },
  "language_info": {
   "codemirror_mode": {
    "name": "ipython",
    "version": 3
   },
   "file_extension": ".py",
   "mimetype": "text/x-python",
   "name": "python",
   "nbconvert_exporter": "python",
   "pygments_lexer": "ipython3",
   "version": "3.10.11"
  },
  "orig_nbformat": 4
 },
 "nbformat": 4,
 "nbformat_minor": 2
}
